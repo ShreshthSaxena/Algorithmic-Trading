{
  "nbformat": 4,
  "nbformat_minor": 0,
  "metadata": {
    "colab": {
      "name": "Cartisan.ipynb",
      "version": "0.3.2",
      "provenance": [],
      "collapsed_sections": [],
      "toc_visible": true,
      "include_colab_link": true
    },
    "kernelspec": {
      "name": "python3",
      "display_name": "Python 3"
    },
    "accelerator": "GPU"
  },
  "cells": [
    {
      "cell_type": "markdown",
      "metadata": {
        "id": "view-in-github",
        "colab_type": "text"
      },
      "source": [
        "<a href=\"https://colab.research.google.com/github/ShreshthSaxena/Algorithmic-Trading/blob/master/Training%20and%20Testing.ipynb\" target=\"_parent\"><img src=\"https://colab.research.google.com/assets/colab-badge.svg\" alt=\"Open In Colab\"/></a>"
      ]
    },
    {
      "cell_type": "markdown",
      "metadata": {
        "id": "v501PTLYnmW2",
        "colab_type": "text"
      },
      "source": [
        "References:\n",
        "\n",
        "https://github.com/matterport/Mask_RCNN/"
      ]
    },
    {
      "cell_type": "code",
      "metadata": {
        "id": "f-Hv2Zdjvpk7",
        "colab_type": "code",
        "outputId": "d0e23e4c-fcce-441c-8167-4b116c73917b",
        "colab": {
          "base_uri": "https://localhost:8080/",
          "height": 122
        }
      },
      "source": [
        "from google.colab import drive\n",
        "drive.mount('/content/drive')"
      ],
      "execution_count": 0,
      "outputs": [
        {
          "output_type": "stream",
          "text": [
            "Go to this URL in a browser: https://accounts.google.com/o/oauth2/auth?client_id=947318989803-6bn6qk8qdgf4n4g3pfee6491hc0brc4i.apps.googleusercontent.com&redirect_uri=urn%3Aietf%3Awg%3Aoauth%3A2.0%3Aoob&scope=email%20https%3A%2F%2Fwww.googleapis.com%2Fauth%2Fdocs.test%20https%3A%2F%2Fwww.googleapis.com%2Fauth%2Fdrive%20https%3A%2F%2Fwww.googleapis.com%2Fauth%2Fdrive.photos.readonly%20https%3A%2F%2Fwww.googleapis.com%2Fauth%2Fpeopleapi.readonly&response_type=code\n",
            "\n",
            "Enter your authorization code:\n",
            "··········\n",
            "Mounted at /content/drive\n"
          ],
          "name": "stdout"
        }
      ]
    },
    {
      "cell_type": "code",
      "metadata": {
        "id": "ybvw99m6v19U",
        "colab_type": "code",
        "outputId": "2dbf1d23-996c-4f97-d9f5-e3f63691955e",
        "colab": {
          "base_uri": "https://localhost:8080/",
          "height": 34
        }
      },
      "source": [
        "cd 'drive/My Drive/cartisan/Mask_RCNN/'"
      ],
      "execution_count": 0,
      "outputs": [
        {
          "output_type": "stream",
          "text": [
            "/content/drive/My Drive/cartisan/Mask_RCNN\n"
          ],
          "name": "stdout"
        }
      ]
    },
    {
      "cell_type": "code",
      "metadata": {
        "id": "HFlTalJmv8iq",
        "colab_type": "code",
        "outputId": "3675a06e-2600-4340-bb6a-c97d3b257041",
        "colab": {
          "base_uri": "https://localhost:8080/",
          "height": 85
        }
      },
      "source": [
        "ls"
      ],
      "execution_count": 0,
      "outputs": [
        {
          "output_type": "stream",
          "text": [
            "148325-004-CD5FE0F6.jpg  \u001b[0m\u001b[01;34mimages\u001b[0m/      mask_rcnn_coco.h5    requirements.txt\n",
            "\u001b[01;34massets\u001b[0m/                  LICENSE      \u001b[01;34mmask_rcnn.egg-info\u001b[0m/  \u001b[01;34msamples\u001b[0m/\n",
            "\u001b[01;34mbuild\u001b[0m/                   \u001b[01;34mlogs\u001b[0m/        \u001b[01;34mmrcnn\u001b[0m/               setup.cfg\n",
            "\u001b[01;34mdist\u001b[0m/                    MANIFEST.in  README.md            setup.py\n"
          ],
          "name": "stdout"
        }
      ]
    },
    {
      "cell_type": "code",
      "metadata": {
        "id": "JO2ikyqBwRiI",
        "colab_type": "code",
        "outputId": "1f20a7a1-505d-423d-f4d4-90798edc68d0",
        "colab": {
          "base_uri": "https://localhost:8080/",
          "height": 34
        }
      },
      "source": [
        "from keras.preprocessing.image import load_img\n",
        "from keras.preprocessing.image import img_to_array\n",
        "from mrcnn.config import Config\n",
        "from mrcnn.model import MaskRCNN\n",
        "from matplotlib import pyplot\n",
        "import matplotlib.pyplot as plt\n",
        "from mrcnn import utils\n",
        "from mrcnn import model as modellib\n",
        "from mrcnn import visualize\n",
        "from matplotlib.patches import Rectangle\n",
        "import os\n",
        "import sys\n",
        "import json\n",
        "import datetime\n",
        "import numpy as np\n",
        "import skimage.io\n",
        "from imgaug import augmenters as iaa"
      ],
      "execution_count": 0,
      "outputs": [
        {
          "output_type": "stream",
          "text": [
            "Using TensorFlow backend.\n"
          ],
          "name": "stderr"
        }
      ]
    },
    {
      "cell_type": "code",
      "metadata": {
        "id": "8HRBtcF4xL6z",
        "colab_type": "code",
        "outputId": "d419e9ce-a29e-4af2-8034-7c764f7b8a7a",
        "colab": {
          "base_uri": "https://localhost:8080/",
          "height": 119
        }
      },
      "source": [
        "!git clone https://github.com/matterport/Mask_RCNN.git"
      ],
      "execution_count": 0,
      "outputs": [
        {
          "output_type": "stream",
          "text": [
            "Cloning into 'Mask_RCNN'...\n",
            "remote: Enumerating objects: 956, done.\u001b[K\n",
            "remote: Total 956 (delta 0), reused 0 (delta 0), pack-reused 956\n",
            "Receiving objects: 100% (956/956), 119.41 MiB | 17.67 MiB/s, done.\n",
            "Resolving deltas: 100% (569/569), done.\n",
            "Checking out files: 100% (76/76), done.\n"
          ],
          "name": "stdout"
        }
      ]
    },
    {
      "cell_type": "code",
      "metadata": {
        "id": "MhDywdkuxzeH",
        "colab_type": "code",
        "outputId": "85c39a0b-8932-4e9f-ca38-e8376f082a86",
        "colab": {
          "base_uri": "https://localhost:8080/",
          "height": 714
        }
      },
      "source": [
        "!python setup.py install"
      ],
      "execution_count": 0,
      "outputs": [
        {
          "output_type": "stream",
          "text": [
            "WARNING:root:Fail load requirements file, so using default ones.\n",
            "running install\n",
            "running bdist_egg\n",
            "running egg_info\n",
            "writing mask_rcnn.egg-info/PKG-INFO\n",
            "writing dependency_links to mask_rcnn.egg-info/dependency_links.txt\n",
            "writing top-level names to mask_rcnn.egg-info/top_level.txt\n",
            "reading manifest template 'MANIFEST.in'\n",
            "writing manifest file 'mask_rcnn.egg-info/SOURCES.txt'\n",
            "installing library code to build/bdist.linux-x86_64/egg\n",
            "running install_lib\n",
            "running build_py\n",
            "creating build/bdist.linux-x86_64/egg\n",
            "creating build/bdist.linux-x86_64/egg/mrcnn\n",
            "copying build/lib/mrcnn/__init__.py -> build/bdist.linux-x86_64/egg/mrcnn\n",
            "copying build/lib/mrcnn/config.py -> build/bdist.linux-x86_64/egg/mrcnn\n",
            "copying build/lib/mrcnn/visualize.py -> build/bdist.linux-x86_64/egg/mrcnn\n",
            "copying build/lib/mrcnn/model.py -> build/bdist.linux-x86_64/egg/mrcnn\n",
            "copying build/lib/mrcnn/parallel_model.py -> build/bdist.linux-x86_64/egg/mrcnn\n",
            "copying build/lib/mrcnn/utils.py -> build/bdist.linux-x86_64/egg/mrcnn\n",
            "byte-compiling build/bdist.linux-x86_64/egg/mrcnn/__init__.py to __init__.cpython-36.pyc\n",
            "byte-compiling build/bdist.linux-x86_64/egg/mrcnn/config.py to config.cpython-36.pyc\n",
            "byte-compiling build/bdist.linux-x86_64/egg/mrcnn/visualize.py to visualize.cpython-36.pyc\n",
            "byte-compiling build/bdist.linux-x86_64/egg/mrcnn/model.py to model.cpython-36.pyc\n",
            "byte-compiling build/bdist.linux-x86_64/egg/mrcnn/parallel_model.py to parallel_model.cpython-36.pyc\n",
            "byte-compiling build/bdist.linux-x86_64/egg/mrcnn/utils.py to utils.cpython-36.pyc\n",
            "creating build/bdist.linux-x86_64/egg/EGG-INFO\n",
            "copying mask_rcnn.egg-info/PKG-INFO -> build/bdist.linux-x86_64/egg/EGG-INFO\n",
            "copying mask_rcnn.egg-info/SOURCES.txt -> build/bdist.linux-x86_64/egg/EGG-INFO\n",
            "copying mask_rcnn.egg-info/dependency_links.txt -> build/bdist.linux-x86_64/egg/EGG-INFO\n",
            "copying mask_rcnn.egg-info/top_level.txt -> build/bdist.linux-x86_64/egg/EGG-INFO\n",
            "zip_safe flag not set; analyzing archive contents...\n",
            "creating 'dist/mask_rcnn-2.1-py3.6.egg' and adding 'build/bdist.linux-x86_64/egg' to it\n",
            "removing 'build/bdist.linux-x86_64/egg' (and everything under it)\n",
            "Processing mask_rcnn-2.1-py3.6.egg\n",
            "Copying mask_rcnn-2.1-py3.6.egg to /usr/local/lib/python3.6/dist-packages\n",
            "Adding mask-rcnn 2.1 to easy-install.pth file\n",
            "\n",
            "Installed /usr/local/lib/python3.6/dist-packages/mask_rcnn-2.1-py3.6.egg\n",
            "Processing dependencies for mask-rcnn==2.1\n",
            "Finished processing dependencies for mask-rcnn==2.1\n"
          ],
          "name": "stdout"
        }
      ]
    },
    {
      "cell_type": "code",
      "metadata": {
        "id": "lUx_mmE2xzVN",
        "colab_type": "code",
        "outputId": "87cad40f-2b8c-4d05-a0fe-b8a53ae7cd45",
        "colab": {
          "base_uri": "https://localhost:8080/",
          "height": 187
        }
      },
      "source": [
        "pip show mask-rcnn"
      ],
      "execution_count": 0,
      "outputs": [
        {
          "output_type": "stream",
          "text": [
            "Name: mask-rcnn\n",
            "Version: 2.1\n",
            "Summary: Mask R-CNN for object detection and instance segmentation\n",
            "Home-page: https://github.com/matterport/Mask_RCNN\n",
            "Author: Matterport\n",
            "Author-email: waleed.abdulla@gmail.com\n",
            "License: MIT\n",
            "Location: /usr/local/lib/python3.6/dist-packages/mask_rcnn-2.1-py3.6.egg\n",
            "Requires: \n",
            "Required-by: \n"
          ],
          "name": "stdout"
        }
      ]
    },
    {
      "cell_type": "code",
      "metadata": {
        "id": "BlJlJU4tx703",
        "colab_type": "code",
        "colab": {}
      },
      "source": [
        "ROOT_DIR = os.getcwd()\n",
        "sys.path.append(ROOT_DIR)"
      ],
      "execution_count": 0,
      "outputs": []
    },
    {
      "cell_type": "code",
      "metadata": {
        "id": "M7Nbh8hVyPcf",
        "colab_type": "code",
        "colab": {}
      },
      "source": [
        "COCO_WEIGHTS_PATH = os.path.join(ROOT_DIR, \"mask_rcnn_coco.h5\")"
      ],
      "execution_count": 0,
      "outputs": []
    },
    {
      "cell_type": "code",
      "metadata": {
        "id": "gSfUYGN5yPLQ",
        "colab_type": "code",
        "colab": {}
      },
      "source": [
        "DEFAULT_LOGS_DIR = os.path.join(ROOT_DIR, \"logs\")"
      ],
      "execution_count": 0,
      "outputs": []
    },
    {
      "cell_type": "code",
      "metadata": {
        "id": "H4Q3cJiyymPB",
        "colab_type": "code",
        "colab": {}
      },
      "source": [
        "RESULTS_DIR = os.path.join(ROOT_DIR, \"results/nucleus/\")"
      ],
      "execution_count": 0,
      "outputs": []
    },
    {
      "cell_type": "code",
      "metadata": {
        "id": "CSDzTrQ1y2Kl",
        "colab_type": "code",
        "colab": {}
      },
      "source": [
        "## Choosen validation images\n",
        "VAL_IMAGE_IDS = [\n",
        "    \"0c2550a23b8a0f29a7575de8c61690d3c31bc897dd5ba66caec201d201a278c2\",\n",
        "    \"92f31f591929a30e4309ab75185c96ff4314ce0a7ead2ed2c2171897ad1da0c7\",\n",
        "    \"1e488c42eb1a54a3e8412b1f12cde530f950f238d71078f2ede6a85a02168e1f\",\n",
        "    \"c901794d1a421d52e5734500c0a2a8ca84651fb93b19cec2f411855e70cae339\",\n",
        "    \"8e507d58f4c27cd2a82bee79fe27b069befd62a46fdaed20970a95a2ba819c7b\",\n",
        "    \"60cb718759bff13f81c4055a7679e81326f78b6a193a2d856546097c949b20ff\",\n",
        "    \"da5f98f2b8a64eee735a398de48ed42cd31bf17a6063db46a9e0783ac13cd844\",\n",
        "    \"9ebcfaf2322932d464f15b5662cae4d669b2d785b8299556d73fffcae8365d32\",\n",
        "    \"1b44d22643830cd4f23c9deadb0bd499fb392fb2cd9526d81547d93077d983df\",\n",
        "    \"97126a9791f0c1176e4563ad679a301dac27c59011f579e808bbd6e9f4cd1034\",\n",
        "    \"e81c758e1ca177b0942ecad62cf8d321ffc315376135bcbed3df932a6e5b40c0\",\n",
        "    \"f29fd9c52e04403cd2c7d43b6fe2479292e53b2f61969d25256d2d2aca7c6a81\",\n",
        "    \"0ea221716cf13710214dcd331a61cea48308c3940df1d28cfc7fd817c83714e1\",\n",
        "    \"3ab9cab6212fabd723a2c5a1949c2ded19980398b56e6080978e796f45cbbc90\",\n",
        "    \"ebc18868864ad075548cc1784f4f9a237bb98335f9645ee727dac8332a3e3716\",\n",
        "    \"bb61fc17daf8bdd4e16fdcf50137a8d7762bec486ede9249d92e511fcb693676\",\n",
        "    \"e1bcb583985325d0ef5f3ef52957d0371c96d4af767b13e48102bca9d5351a9b\",\n",
        "    \"947c0d94c8213ac7aaa41c4efc95d854246550298259cf1bb489654d0e969050\",\n",
        "    \"cbca32daaae36a872a11da4eaff65d1068ff3f154eedc9d3fc0c214a4e5d32bd\",\n",
        "    \"f4c4db3df4ff0de90f44b027fc2e28c16bf7e5c75ea75b0a9762bbb7ac86e7a3\",\n",
        "    \"4193474b2f1c72f735b13633b219d9cabdd43c21d9c2bb4dfc4809f104ba4c06\",\n",
        "    \"f73e37957c74f554be132986f38b6f1d75339f636dfe2b681a0cf3f88d2733af\",\n",
        "    \"a4c44fc5f5bf213e2be6091ccaed49d8bf039d78f6fbd9c4d7b7428cfcb2eda4\",\n",
        "    \"cab4875269f44a701c5e58190a1d2f6fcb577ea79d842522dcab20ccb39b7ad2\",\n",
        "    \"8ecdb93582b2d5270457b36651b62776256ade3aaa2d7432ae65c14f07432d49\",\n",
        "]"
      ],
      "execution_count": 0,
      "outputs": []
    },
    {
      "cell_type": "markdown",
      "metadata": {
        "id": "HGIRNORtzH5r",
        "colab_type": "text"
      },
      "source": [
        "### Configuration"
      ]
    },
    {
      "cell_type": "code",
      "metadata": {
        "id": "X92qHYwUzBQK",
        "colab_type": "code",
        "colab": {}
      },
      "source": [
        "class NucleusConfig(Config):\n",
        "    \"\"\"Configuration for training on the nucleus segmentation dataset.\"\"\"\n",
        "    # Give the configuration a recognizable name\n",
        "    NAME = \"nucleus\"\n",
        "\n",
        "    # Adjust depending on your GPU memory\n",
        "    IMAGES_PER_GPU = 6\n",
        "\n",
        "    # Number of classes (including background)\n",
        "    NUM_CLASSES = 1 + 1  # Background + nucleus\n",
        "\n",
        "    # Number of training and validation steps per epoch\n",
        "    STEPS_PER_EPOCH = (657 - len(VAL_IMAGE_IDS)) // IMAGES_PER_GPU\n",
        "    VALIDATION_STEPS = max(1, len(VAL_IMAGE_IDS) // IMAGES_PER_GPU)\n",
        "\n",
        "    # Don't exclude based on confidence. Since we have two classes\n",
        "    # then 0.5 is the minimum anyway as it picks between nucleus and BG\n",
        "    DETECTION_MIN_CONFIDENCE = 0\n",
        "\n",
        "    # Backbone network architecture\n",
        "    # Supported values are: resnet50, resnet101\n",
        "    BACKBONE = \"resnet50\"\n",
        "\n",
        "    # Input image resizing\n",
        "    # Random crops of size 512x512\n",
        "    IMAGE_RESIZE_MODE = \"crop\"\n",
        "    IMAGE_MIN_DIM = 512\n",
        "    IMAGE_MAX_DIM = 512\n",
        "    IMAGE_MIN_SCALE = 2.0\n",
        "\n",
        "    # Length of square anchor side in pixels\n",
        "    RPN_ANCHOR_SCALES = (8, 16, 32, 64, 128)\n",
        "\n",
        "    # ROIs kept after non-maximum supression (training and inference)\n",
        "    POST_NMS_ROIS_TRAINING = 1000\n",
        "    POST_NMS_ROIS_INFERENCE = 2000\n",
        "\n",
        "    # Non-max suppression threshold to filter RPN proposals.\n",
        "    # You can increase this during training to generate more propsals.\n",
        "    RPN_NMS_THRESHOLD = 0.9\n",
        "\n",
        "    # How many anchors per image to use for RPN training\n",
        "    RPN_TRAIN_ANCHORS_PER_IMAGE = 64\n",
        "\n",
        "    # Image mean (RGB)\n",
        "    MEAN_PIXEL = np.array([43.53, 39.56, 48.22])\n",
        "\n",
        "    # If enabled, resizes instance masks to a smaller size to reduce\n",
        "    # memory load. Recommended when using high-resolution images.\n",
        "    USE_MINI_MASK = True\n",
        "    MINI_MASK_SHAPE = (56, 56)  # (height, width) of the mini-mask\n",
        "\n",
        "    # Number of ROIs per image to feed to classifier/mask heads\n",
        "    # The Mask RCNN paper uses 512 but often the RPN doesn't generate\n",
        "    # enough positive proposals to fill this and keep a positive:negative\n",
        "    # ratio of 1:3. You can increase the number of proposals by adjusting\n",
        "    # the RPN NMS threshold.\n",
        "    TRAIN_ROIS_PER_IMAGE = 128\n",
        "\n",
        "    # Maximum number of ground truth instances to use in one image\n",
        "    MAX_GT_INSTANCES = 200\n",
        "\n",
        "    # Max number of final detections per image\n",
        "    DETECTION_MAX_INSTANCES = 400\n",
        "\n",
        "\n",
        "class NucleusInferenceConfig(NucleusConfig):\n",
        "    # Set batch size to 1 to run one image at a time\n",
        "    GPU_COUNT = 1\n",
        "    IMAGES_PER_GPU = 1\n",
        "    # Don't resize imager for inferencing\n",
        "    IMAGE_RESIZE_MODE = \"pad64\"\n",
        "    # Non-max suppression threshold to filter RPN proposals.\n",
        "    # You can increase this during training to generate more propsals.\n",
        "    RPN_NMS_THRESHOLD = 0.7"
      ],
      "execution_count": 0,
      "outputs": []
    },
    {
      "cell_type": "markdown",
      "metadata": {
        "id": "GkSSZP4Vz8yJ",
        "colab_type": "text"
      },
      "source": [
        "### Dataset"
      ]
    },
    {
      "cell_type": "code",
      "metadata": {
        "id": "HrtxcHuuz6Hm",
        "colab_type": "code",
        "colab": {}
      },
      "source": [
        "class NucleusDataset(utils.Dataset):\n",
        "\n",
        "    def load_nucleus(self, dataset_dir, subset):\n",
        "        \"\"\"Load a subset of the nuclei dataset.\n",
        "        dataset_dir: Root directory of the dataset\n",
        "        subset: Subset to load. Either the name of the sub-directory,\n",
        "                such as stage1_train, stage1_test, ...etc. or, one of:\n",
        "                * train: stage1_train excluding validation images\n",
        "                * val: validation images from VAL_IMAGE_IDS\n",
        "        \"\"\"\n",
        "        # Add classes. We have one class.\n",
        "        # Naming the dataset nucleus, and the class nucleus\n",
        "        self.add_class(\"nucleus\", 1, \"nucleus\")\n",
        "\n",
        "        # Which subset?\n",
        "        # \"val\": use hard-coded list above\n",
        "        # \"train\": use data from stage1_train minus the hard-coded list above\n",
        "        # else: use the data from the specified sub-directory\n",
        "        assert subset in [\"train\", \"val\", \"stage1_train\", \"stage1_test\", \"stage2_test\"]\n",
        "        subset_dir = \"stage1_train\" if subset in [\"train\", \"val\"] else subset\n",
        "        dataset_dir = os.path.join(dataset_dir, subset_dir)\n",
        "        if subset == \"val\":\n",
        "            image_ids = VAL_IMAGE_IDS\n",
        "        else:\n",
        "            # Get image ids from directory names\n",
        "            image_ids = next(os.walk(dataset_dir))[1]\n",
        "            if subset == \"train\":\n",
        "                image_ids = list(set(image_ids) - set(VAL_IMAGE_IDS))\n",
        "\n",
        "        # Add images\n",
        "        for image_id in image_ids:\n",
        "            self.add_image(\n",
        "                \"nucleus\",\n",
        "                image_id=image_id,\n",
        "                path=os.path.join(dataset_dir, image_id, \"images/{}.png\".format(image_id)))\n",
        "\n",
        "    def load_mask(self, image_id):\n",
        "        \"\"\"Generate instance masks for an image.\n",
        "       Returns:\n",
        "        masks: A bool array of shape [height, width, instance count] with\n",
        "            one mask per instance.\n",
        "        class_ids: a 1D array of class IDs of the instance masks.\n",
        "        \"\"\"\n",
        "        info = self.image_info[image_id]\n",
        "        # Get mask directory from image path\n",
        "        mask_dir = os.path.join(os.path.dirname(os.path.dirname(info['path'])), \"masks\")\n",
        "\n",
        "        # Read mask files from .png image\n",
        "        mask = []\n",
        "        for f in next(os.walk(mask_dir))[2]:\n",
        "            if f.endswith(\".png\"):\n",
        "                m = skimage.io.imread(os.path.join(mask_dir, f)).astype(np.bool)\n",
        "                mask.append(m)\n",
        "        mask = np.stack(mask, axis=-1)\n",
        "        # Return mask, and array of class IDs of each instance. Since we have\n",
        "        # one class ID, we return an array of ones\n",
        "        return mask, np.ones([mask.shape[-1]], dtype=np.int32)\n",
        "\n",
        "    def image_reference(self, image_id):\n",
        "        \"\"\"Return the path of the image.\"\"\"\n",
        "        info = self.image_info[image_id]\n",
        "        if info[\"source\"] == \"nucleus\":\n",
        "            return info[\"id\"]\n",
        "        else:\n",
        "            super(self.__class__, self).image_reference(image_id)"
      ],
      "execution_count": 0,
      "outputs": []
    },
    {
      "cell_type": "markdown",
      "metadata": {
        "id": "EOuHQnmZ18UG",
        "colab_type": "text"
      },
      "source": [
        "### Training"
      ]
    },
    {
      "cell_type": "code",
      "metadata": {
        "id": "A16I-7fq00e0",
        "colab_type": "code",
        "colab": {}
      },
      "source": [
        "def train(model, dataset_dir, subset):\n",
        "    \"\"\"Train the model.\"\"\"\n",
        "    # Training dataset.\n",
        "    dataset_train = NucleusDataset()\n",
        "    dataset_train.load_nucleus(dataset_dir, subset)\n",
        "    dataset_train.prepare()\n",
        "\n",
        "    # Validation dataset\n",
        "    dataset_val = NucleusDataset()\n",
        "    dataset_val.load_nucleus(dataset_dir, \"val\")\n",
        "    dataset_val.prepare()\n",
        "\n",
        "    # Image augmentation\n",
        "    # http://imgaug.readthedocs.io/en/latest/source/augmenters.html\n",
        "    augmentation = iaa.SomeOf((0, 2), [\n",
        "        iaa.Fliplr(0.5),\n",
        "        iaa.Flipud(0.5),\n",
        "        iaa.OneOf([iaa.Affine(rotate=90),\n",
        "                   iaa.Affine(rotate=180),\n",
        "                   iaa.Affine(rotate=270)]),\n",
        "        iaa.Multiply((0.8, 1.5)),\n",
        "        iaa.GaussianBlur(sigma=(0.0, 5.0))\n",
        "    ])\n",
        "\n",
        "    # *** This training schedule is an example. Update to your needs ***\n",
        "\n",
        "    # If starting from imagenet, train heads only for a bit\n",
        "    # since they have random weights\n",
        "    print(\"Train network heads\")\n",
        "    model.train(dataset_train, dataset_val,\n",
        "                learning_rate=config.LEARNING_RATE,\n",
        "                epochs=20,\n",
        "                augmentation=augmentation,\n",
        "                layers='heads')\n",
        "\n",
        "    print(\"Train all layers\")\n",
        "    model.train(dataset_train, dataset_val,\n",
        "                learning_rate=config.LEARNING_RATE,\n",
        "                epochs=40,\n",
        "                augmentation=augmentation,\n",
        "                layers='all')"
      ],
      "execution_count": 0,
      "outputs": []
    },
    {
      "cell_type": "markdown",
      "metadata": {
        "id": "I2AlQefd2Qv0",
        "colab_type": "text"
      },
      "source": [
        "### RLE Encoding"
      ]
    },
    {
      "cell_type": "code",
      "metadata": {
        "id": "5Tct6H2C2O1x",
        "colab_type": "code",
        "colab": {}
      },
      "source": [
        "def rle_encode(mask):\n",
        "    \"\"\"Encodes a mask in Run Length Encoding (RLE).\n",
        "    Returns a string of space-separated values.\n",
        "    \"\"\"\n",
        "    assert mask.ndim == 2, \"Mask must be of shape [Height, Width]\"\n",
        "    # Flatten it column wise\n",
        "    m = mask.T.flatten()\n",
        "    # Compute gradient. Equals 1 or -1 at transition points\n",
        "    g = np.diff(np.concatenate([[0], m, [0]]), n=1)\n",
        "    # 1-based indicies of transition points (where gradient != 0)\n",
        "    rle = np.where(g != 0)[0].reshape([-1, 2]) + 1\n",
        "    # Convert second index in each pair to lenth\n",
        "    rle[:, 1] = rle[:, 1] - rle[:, 0]\n",
        "    return \" \".join(map(str, rle.flatten()))"
      ],
      "execution_count": 0,
      "outputs": []
    },
    {
      "cell_type": "code",
      "metadata": {
        "id": "PH6ytlCZ2Z1p",
        "colab_type": "code",
        "colab": {}
      },
      "source": [
        "def rle_decode(rle, shape):\n",
        "    \"\"\"Decodes an RLE encoded list of space separated\n",
        "    numbers and returns a binary mask.\"\"\"\n",
        "    rle = list(map(int, rle.split()))\n",
        "    rle = np.array(rle, dtype=np.int32).reshape([-1, 2])\n",
        "    rle[:, 1] += rle[:, 0]\n",
        "    rle -= 1\n",
        "    mask = np.zeros([shape[0] * shape[1]], np.bool)\n",
        "    for s, e in rle:\n",
        "        assert 0 <= s < mask.shape[0]\n",
        "        assert 1 <= e <= mask.shape[0], \"shape: {}  s {}  e {}\".format(shape, s, e)\n",
        "        mask[s:e] = 1\n",
        "    # Reshape and transpose\n",
        "    mask = mask.reshape([shape[1], shape[0]]).T\n",
        "    return mask"
      ],
      "execution_count": 0,
      "outputs": []
    },
    {
      "cell_type": "code",
      "metadata": {
        "id": "8BbSNl8c2chh",
        "colab_type": "code",
        "colab": {}
      },
      "source": [
        "def mask_to_rle(image_id, mask, scores):\n",
        "    \"Encodes instance masks to submission format.\"\n",
        "    assert mask.ndim == 3, \"Mask must be [H, W, count]\"\n",
        "    # If mask is empty, return line with image ID only\n",
        "    if mask.shape[-1] == 0:\n",
        "        return \"{},\".format(image_id)\n",
        "    # Remove mask overlaps\n",
        "    # Multiply each instance mask by its score order\n",
        "    # then take the maximum across the last dimension\n",
        "    order = np.argsort(scores)[::-1] + 1  # 1-based descending\n",
        "    mask = np.max(mask * np.reshape(order, [1, 1, -1]), -1)\n",
        "    # Loop over instance masks\n",
        "    lines = []\n",
        "    for o in order:\n",
        "        m = np.where(mask == o, 1, 0)\n",
        "        # Skip if empty\n",
        "        if m.sum() == 0.0:\n",
        "            continue\n",
        "        rle = rle_encode(m)\n",
        "        lines.append(\"{}, {}\".format(image_id, rle))\n",
        "    return \"\\n\".join(lines)"
      ],
      "execution_count": 0,
      "outputs": []
    },
    {
      "cell_type": "markdown",
      "metadata": {
        "id": "m9M-sEE42hL3",
        "colab_type": "text"
      },
      "source": [
        "### Detect"
      ]
    },
    {
      "cell_type": "code",
      "metadata": {
        "id": "q80x4N8w2gmz",
        "colab_type": "code",
        "colab": {}
      },
      "source": [
        "def detect(model, dataset_dir, subset):\n",
        "    \"\"\"Run detection on images in the given directory.\"\"\"\n",
        "    print(\"Running on {}\".format(dataset_dir))\n",
        "\n",
        "    # Create directory\n",
        "    if not os.path.exists(RESULTS_DIR):\n",
        "        os.makedirs(RESULTS_DIR)\n",
        "    submit_dir = \"submit_{:%Y%m%dT%H%M%S}\".format(datetime.datetime.now())\n",
        "    submit_dir = os.path.join(RESULTS_DIR, submit_dir)\n",
        "    os.makedirs(submit_dir)\n",
        "\n",
        "    # Read dataset\n",
        "    dataset = NucleusDataset()\n",
        "    dataset.load_nucleus(dataset_dir, subset)\n",
        "    dataset.prepare()\n",
        "    # Load over images\n",
        "    submission = []\n",
        "    for image_id in dataset.image_ids:\n",
        "        # Load image and run detection\n",
        "        image = dataset.load_image(image_id)\n",
        "        # Detect objects\n",
        "        r = model.detect([image], verbose=0)[0]\n",
        "        # Encode image to RLE. Returns a string of multiple lines\n",
        "        source_id = dataset.image_info[image_id][\"id\"]\n",
        "        rle = mask_to_rle(source_id, r[\"masks\"], r[\"scores\"])\n",
        "        submission.append(rle)\n",
        "        # Save image with masks\n",
        "        visualize.display_instances(\n",
        "            image, r['rois'], r['masks'], r['class_ids'],\n",
        "            dataset.class_names, r['scores'],\n",
        "            show_bbox=False, show_mask=False,\n",
        "            title=\"Predictions\")\n",
        "        plt.savefig(\"{}/{}.png\".format(submit_dir, dataset.image_info[image_id][\"id\"]))\n",
        "\n",
        "    # Save to csv file\n",
        "    submission = \"ImageId,EncodedPixels\\n\" + \"\\n\".join(submission)\n",
        "    file_path = os.path.join(submit_dir, \"submit.csv\")\n",
        "    with open(file_path, \"w\") as f:\n",
        "        f.write(submission)\n",
        "    print(\"Saved to \", submit_dir)"
      ],
      "execution_count": 0,
      "outputs": []
    },
    {
      "cell_type": "markdown",
      "metadata": {
        "id": "YOzgzT-d2qtG",
        "colab_type": "text"
      },
      "source": [
        "## Training / Testing"
      ]
    },
    {
      "cell_type": "code",
      "metadata": {
        "id": "99ckQPvLXDQF",
        "colab_type": "code",
        "outputId": "5947161d-89b6-43c2-8c3b-d9f66a55cff9",
        "colab": {
          "base_uri": "https://localhost:8080/",
          "height": 34
        }
      },
      "source": [
        "os.path.exists(COCO_WEIGHTS_PATH)"
      ],
      "execution_count": 0,
      "outputs": [
        {
          "output_type": "execute_result",
          "data": {
            "text/plain": [
              "True"
            ]
          },
          "metadata": {
            "tags": []
          },
          "execution_count": 19
        }
      ]
    },
    {
      "cell_type": "code",
      "metadata": {
        "id": "YAuGx3Ct2pUv",
        "colab_type": "code",
        "outputId": "bd7854fb-5867-4761-a031-e5f6a307763c",
        "colab": {
          "base_uri": "https://localhost:8080/",
          "height": 1312
        }
      },
      "source": [
        "## Train\n",
        "\n",
        "# print(\"Weights: \", args.weights)\n",
        "# print(\"Dataset: \", args.dataset)\n",
        "# if args.subset:\n",
        "#     print(\"Subset: \", args.subset)\n",
        "# print(\"Logs: \", args.logs)\n",
        "\n",
        "\n",
        "config = NucleusConfig()\n",
        "config.display()\n",
        "\n",
        "# UNCOMMENT DESIRED OPTION\n",
        "\n",
        "weights_path = COCO_WEIGHTS_PATH\n",
        "# # Download weights file\n",
        "# if not os.path.exists(weights_path):\n",
        "#     utils.download_trained_weights(weights_path)\n",
        "\n",
        "# # Find last trained weights\n",
        "# weights_path = model.find_last()\n",
        "\n",
        "# # Start from ImageNet trained weights\n",
        "# weights_path = model.get_imagenet_weights()\n",
        "\n",
        "## Custom path\n",
        "# weights_path = weights\n",
        "\n",
        "model = modellib.MaskRCNN(mode=\"training\", config=config,\n",
        "                          model_dir='logs/')\n",
        "\n",
        "model.load_weights(weights_path, by_name=True, exclude=['mrcnn_class_logits', 'mrcnn_bbox_fc', 'mrcnn_bbox', 'mrcnn_mask'])\n",
        "\n",
        "# not excluding last layers\n",
        "#model.load_weights('mask_rcnn_coco.h5', by_name=True)\n"
      ],
      "execution_count": 0,
      "outputs": [
        {
          "output_type": "stream",
          "text": [
            "WARNING: Logging before flag parsing goes to stderr.\n",
            "W0617 19:59:51.144250 140402491152256 deprecation_wrapper.py:119] From /usr/local/lib/python3.6/dist-packages/keras/backend/tensorflow_backend.py:517: The name tf.placeholder is deprecated. Please use tf.compat.v1.placeholder instead.\n",
            "\n",
            "W0617 19:59:51.190897 140402491152256 deprecation_wrapper.py:119] From /usr/local/lib/python3.6/dist-packages/keras/backend/tensorflow_backend.py:74: The name tf.get_default_graph is deprecated. Please use tf.compat.v1.get_default_graph instead.\n",
            "\n",
            "W0617 19:59:51.216132 140402491152256 deprecation_wrapper.py:119] From /usr/local/lib/python3.6/dist-packages/keras/backend/tensorflow_backend.py:4138: The name tf.random_uniform is deprecated. Please use tf.random.uniform instead.\n",
            "\n",
            "W0617 19:59:51.251517 140402491152256 deprecation_wrapper.py:119] From /usr/local/lib/python3.6/dist-packages/keras/backend/tensorflow_backend.py:1919: The name tf.nn.fused_batch_norm is deprecated. Please use tf.compat.v1.nn.fused_batch_norm instead.\n",
            "\n",
            "W0617 19:59:51.255187 140402491152256 deprecation_wrapper.py:119] From /usr/local/lib/python3.6/dist-packages/keras/backend/tensorflow_backend.py:3976: The name tf.nn.max_pool is deprecated. Please use tf.nn.max_pool2d instead.\n",
            "\n"
          ],
          "name": "stderr"
        },
        {
          "output_type": "stream",
          "text": [
            "\n",
            "Configurations:\n",
            "BACKBONE                       resnet50\n",
            "BACKBONE_STRIDES               [4, 8, 16, 32, 64]\n",
            "BATCH_SIZE                     6\n",
            "BBOX_STD_DEV                   [0.1 0.1 0.2 0.2]\n",
            "COMPUTE_BACKBONE_SHAPE         None\n",
            "DETECTION_MAX_INSTANCES        400\n",
            "DETECTION_MIN_CONFIDENCE       0\n",
            "DETECTION_NMS_THRESHOLD        0.3\n",
            "FPN_CLASSIF_FC_LAYERS_SIZE     1024\n",
            "GPU_COUNT                      1\n",
            "GRADIENT_CLIP_NORM             5.0\n",
            "IMAGES_PER_GPU                 6\n",
            "IMAGE_CHANNEL_COUNT            3\n",
            "IMAGE_MAX_DIM                  512\n",
            "IMAGE_META_SIZE                14\n",
            "IMAGE_MIN_DIM                  512\n",
            "IMAGE_MIN_SCALE                2.0\n",
            "IMAGE_RESIZE_MODE              crop\n",
            "IMAGE_SHAPE                    [512 512   3]\n",
            "LEARNING_MOMENTUM              0.9\n",
            "LEARNING_RATE                  0.001\n",
            "LOSS_WEIGHTS                   {'rpn_class_loss': 1.0, 'rpn_bbox_loss': 1.0, 'mrcnn_class_loss': 1.0, 'mrcnn_bbox_loss': 1.0, 'mrcnn_mask_loss': 1.0}\n",
            "MASK_POOL_SIZE                 14\n",
            "MASK_SHAPE                     [28, 28]\n",
            "MAX_GT_INSTANCES               200\n",
            "MEAN_PIXEL                     [43.53 39.56 48.22]\n",
            "MINI_MASK_SHAPE                (56, 56)\n",
            "NAME                           nucleus\n",
            "NUM_CLASSES                    2\n",
            "POOL_SIZE                      7\n",
            "POST_NMS_ROIS_INFERENCE        2000\n",
            "POST_NMS_ROIS_TRAINING         1000\n",
            "PRE_NMS_LIMIT                  6000\n",
            "ROI_POSITIVE_RATIO             0.33\n",
            "RPN_ANCHOR_RATIOS              [0.5, 1, 2]\n",
            "RPN_ANCHOR_SCALES              (8, 16, 32, 64, 128)\n",
            "RPN_ANCHOR_STRIDE              1\n",
            "RPN_BBOX_STD_DEV               [0.1 0.1 0.2 0.2]\n",
            "RPN_NMS_THRESHOLD              0.9\n",
            "RPN_TRAIN_ANCHORS_PER_IMAGE    64\n",
            "STEPS_PER_EPOCH                105\n",
            "TOP_DOWN_PYRAMID_SIZE          256\n",
            "TRAIN_BN                       False\n",
            "TRAIN_ROIS_PER_IMAGE           128\n",
            "USE_MINI_MASK                  True\n",
            "USE_RPN_ROIS                   True\n",
            "VALIDATION_STEPS               4\n",
            "WEIGHT_DECAY                   0.0001\n",
            "\n",
            "\n"
          ],
          "name": "stdout"
        },
        {
          "output_type": "stream",
          "text": [
            "W0617 19:59:52.556935 140402491152256 deprecation_wrapper.py:119] From /usr/local/lib/python3.6/dist-packages/keras/backend/tensorflow_backend.py:2018: The name tf.image.resize_nearest_neighbor is deprecated. Please use tf.compat.v1.image.resize_nearest_neighbor instead.\n",
            "\n",
            "W0617 19:59:53.754913 140402491152256 deprecation.py:323] From /usr/local/lib/python3.6/dist-packages/tensorflow/python/ops/array_ops.py:1354: add_dispatch_support.<locals>.wrapper (from tensorflow.python.ops.array_ops) is deprecated and will be removed in a future version.\n",
            "Instructions for updating:\n",
            "Use tf.where in 2.0, which has the same broadcast rule as np.where\n",
            "W0617 19:59:53.910543 140402491152256 deprecation_wrapper.py:119] From /content/drive/My Drive/cartisan/Mask_RCNN/mrcnn/model.py:553: The name tf.random_shuffle is deprecated. Please use tf.random.shuffle instead.\n",
            "\n",
            "W0617 19:59:53.987829 140402491152256 deprecation_wrapper.py:119] From /content/drive/My Drive/cartisan/Mask_RCNN/mrcnn/utils.py:202: The name tf.log is deprecated. Please use tf.math.log instead.\n",
            "\n",
            "W0617 19:59:54.014535 140402491152256 deprecation.py:506] From /content/drive/My Drive/cartisan/Mask_RCNN/mrcnn/model.py:600: calling crop_and_resize_v1 (from tensorflow.python.ops.image_ops_impl) with box_ind is deprecated and will be removed in a future version.\n",
            "Instructions for updating:\n",
            "box_ind is deprecated, use box_indices instead\n"
          ],
          "name": "stderr"
        }
      ]
    },
    {
      "cell_type": "code",
      "metadata": {
        "id": "chyY8uc75Apx",
        "colab_type": "code",
        "outputId": "9edc3d5f-0979-4245-86f8-40eba6dc7b30",
        "colab": {
          "base_uri": "https://localhost:8080/",
          "height": 4729
        }
      },
      "source": [
        "# %%capture output\n",
        "\n",
        "train(model, ROOT_DIR, 'stage1_train')"
      ],
      "execution_count": 0,
      "outputs": [
        {
          "output_type": "stream",
          "text": [
            "Train network heads\n",
            "\n",
            "Starting at epoch 0. LR=0.001\n",
            "\n",
            "Checkpoint Path: logs/nucleus20190617T2000/mask_rcnn_nucleus_{epoch:04d}.h5\n",
            "Selecting layers to train\n",
            "fpn_c5p5               (Conv2D)\n",
            "fpn_c4p4               (Conv2D)\n",
            "fpn_c3p3               (Conv2D)\n",
            "fpn_c2p2               (Conv2D)\n",
            "fpn_p5                 (Conv2D)\n",
            "fpn_p2                 (Conv2D)\n",
            "fpn_p3                 (Conv2D)\n",
            "fpn_p4                 (Conv2D)\n",
            "In model:  rpn_model\n",
            "    rpn_conv_shared        (Conv2D)\n",
            "    rpn_class_raw          (Conv2D)\n",
            "    rpn_bbox_pred          (Conv2D)\n",
            "mrcnn_mask_conv1       (TimeDistributed)\n",
            "mrcnn_mask_bn1         (TimeDistributed)\n",
            "mrcnn_mask_conv2       (TimeDistributed)\n",
            "mrcnn_mask_bn2         (TimeDistributed)\n",
            "mrcnn_class_conv1      (TimeDistributed)\n",
            "mrcnn_class_bn1        (TimeDistributed)\n",
            "mrcnn_mask_conv3       (TimeDistributed)\n",
            "mrcnn_mask_bn3         (TimeDistributed)\n",
            "mrcnn_class_conv2      (TimeDistributed)\n",
            "mrcnn_class_bn2        (TimeDistributed)\n",
            "mrcnn_mask_conv4       (TimeDistributed)\n",
            "mrcnn_mask_bn4         (TimeDistributed)\n",
            "mrcnn_bbox_fc          (TimeDistributed)\n",
            "mrcnn_mask_deconv      (TimeDistributed)\n",
            "mrcnn_class_logits     (TimeDistributed)\n",
            "mrcnn_mask             (TimeDistributed)\n"
          ],
          "name": "stdout"
        },
        {
          "output_type": "stream",
          "text": [
            "W0617 20:00:13.666586 140402491152256 deprecation_wrapper.py:119] From /usr/local/lib/python3.6/dist-packages/keras/optimizers.py:790: The name tf.train.Optimizer is deprecated. Please use tf.compat.v1.train.Optimizer instead.\n",
            "\n",
            "/usr/local/lib/python3.6/dist-packages/tensorflow/python/ops/gradients_util.py:93: UserWarning: Converting sparse IndexedSlices to a dense Tensor of unknown shape. This may consume a large amount of memory.\n",
            "  \"Converting sparse IndexedSlices to a dense Tensor of unknown shape. \"\n",
            "/usr/local/lib/python3.6/dist-packages/tensorflow/python/ops/gradients_util.py:93: UserWarning: Converting sparse IndexedSlices to a dense Tensor of unknown shape. This may consume a large amount of memory.\n",
            "  \"Converting sparse IndexedSlices to a dense Tensor of unknown shape. \"\n",
            "/usr/local/lib/python3.6/dist-packages/tensorflow/python/ops/gradients_util.py:93: UserWarning: Converting sparse IndexedSlices to a dense Tensor of unknown shape. This may consume a large amount of memory.\n",
            "  \"Converting sparse IndexedSlices to a dense Tensor of unknown shape. \"\n",
            "/usr/local/lib/python3.6/dist-packages/keras/engine/training_generator.py:47: UserWarning: Using a generator with `use_multiprocessing=True` and multiple workers may duplicate your data. Please consider using the`keras.utils.Sequence class.\n",
            "  UserWarning('Using a generator with `use_multiprocessing=True`'\n",
            "W0617 20:00:20.701576 140402491152256 deprecation_wrapper.py:119] From /usr/local/lib/python3.6/dist-packages/keras/callbacks.py:850: The name tf.summary.merge_all is deprecated. Please use tf.compat.v1.summary.merge_all instead.\n",
            "\n",
            "W0617 20:00:20.703139 140402491152256 deprecation_wrapper.py:119] From /usr/local/lib/python3.6/dist-packages/keras/callbacks.py:853: The name tf.summary.FileWriter is deprecated. Please use tf.compat.v1.summary.FileWriter instead.\n",
            "\n"
          ],
          "name": "stderr"
        },
        {
          "output_type": "stream",
          "text": [
            "Epoch 1/20\n",
            "105/105 [==============================] - 4330s 41s/step - loss: 2.1105 - rpn_class_loss: 0.2694 - rpn_bbox_loss: 0.9625 - mrcnn_class_loss: 0.1603 - mrcnn_bbox_loss: 0.3707 - mrcnn_mask_loss: 0.3475 - val_loss: 1.8024 - val_rpn_class_loss: 0.1159 - val_rpn_bbox_loss: 0.8515 - val_mrcnn_class_loss: 0.2197 - val_mrcnn_bbox_loss: 0.3093 - val_mrcnn_mask_loss: 0.3061\n",
            "Epoch 2/20\n",
            "105/105 [==============================] - 4008s 38s/step - loss: 1.5069 - rpn_class_loss: 0.1096 - rpn_bbox_loss: 0.7378 - mrcnn_class_loss: 0.2040 - mrcnn_bbox_loss: 0.2117 - mrcnn_mask_loss: 0.2438 - val_loss: 1.4948 - val_rpn_class_loss: 0.1047 - val_rpn_bbox_loss: 0.6850 - val_mrcnn_class_loss: 0.2501 - val_mrcnn_bbox_loss: 0.2108 - val_mrcnn_mask_loss: 0.2442\n",
            "Epoch 3/20\n",
            "105/105 [==============================] - 1089s 10s/step - loss: 1.3060 - rpn_class_loss: 0.0859 - rpn_bbox_loss: 0.6050 - mrcnn_class_loss: 0.2150 - mrcnn_bbox_loss: 0.1789 - mrcnn_mask_loss: 0.2211 - val_loss: 1.4992 - val_rpn_class_loss: 0.0890 - val_rpn_bbox_loss: 0.5774 - val_mrcnn_class_loss: 0.2886 - val_mrcnn_bbox_loss: 0.2431 - val_mrcnn_mask_loss: 0.3011\n",
            "Epoch 4/20\n",
            "105/105 [==============================] - 569s 5s/step - loss: 1.2348 - rpn_class_loss: 0.0736 - rpn_bbox_loss: 0.5433 - mrcnn_class_loss: 0.2180 - mrcnn_bbox_loss: 0.1768 - mrcnn_mask_loss: 0.2230 - val_loss: 1.2413 - val_rpn_class_loss: 0.0576 - val_rpn_bbox_loss: 0.5222 - val_mrcnn_class_loss: 0.2308 - val_mrcnn_bbox_loss: 0.1819 - val_mrcnn_mask_loss: 0.2488\n",
            "Epoch 5/20\n",
            "105/105 [==============================] - 609s 6s/step - loss: 1.1549 - rpn_class_loss: 0.0657 - rpn_bbox_loss: 0.4930 - mrcnn_class_loss: 0.2124 - mrcnn_bbox_loss: 0.1658 - mrcnn_mask_loss: 0.2179 - val_loss: 1.3363 - val_rpn_class_loss: 0.0719 - val_rpn_bbox_loss: 0.5554 - val_mrcnn_class_loss: 0.2516 - val_mrcnn_bbox_loss: 0.2027 - val_mrcnn_mask_loss: 0.2548\n",
            "Epoch 6/20\n",
            "105/105 [==============================] - 712s 7s/step - loss: 1.1240 - rpn_class_loss: 0.0610 - rpn_bbox_loss: 0.4626 - mrcnn_class_loss: 0.2134 - mrcnn_bbox_loss: 0.1645 - mrcnn_mask_loss: 0.2225 - val_loss: 1.3651 - val_rpn_class_loss: 0.0733 - val_rpn_bbox_loss: 0.5402 - val_mrcnn_class_loss: 0.2850 - val_mrcnn_bbox_loss: 0.1937 - val_mrcnn_mask_loss: 0.2729\n",
            "Epoch 7/20\n",
            "105/105 [==============================] - 608s 6s/step - loss: 1.0747 - rpn_class_loss: 0.0565 - rpn_bbox_loss: 0.4355 - mrcnn_class_loss: 0.2052 - mrcnn_bbox_loss: 0.1567 - mrcnn_mask_loss: 0.2209 - val_loss: 1.3749 - val_rpn_class_loss: 0.0870 - val_rpn_bbox_loss: 0.5482 - val_mrcnn_class_loss: 0.2538 - val_mrcnn_bbox_loss: 0.2183 - val_mrcnn_mask_loss: 0.2675\n",
            "Epoch 8/20\n",
            "105/105 [==============================] - 666s 6s/step - loss: 1.0271 - rpn_class_loss: 0.0530 - rpn_bbox_loss: 0.4051 - mrcnn_class_loss: 0.2029 - mrcnn_bbox_loss: 0.1522 - mrcnn_mask_loss: 0.2139 - val_loss: 1.0604 - val_rpn_class_loss: 0.0463 - val_rpn_bbox_loss: 0.4155 - val_mrcnn_class_loss: 0.2147 - val_mrcnn_bbox_loss: 0.1549 - val_mrcnn_mask_loss: 0.2290\n",
            "Epoch 9/20\n",
            "105/105 [==============================] - 658s 6s/step - loss: 1.0528 - rpn_class_loss: 0.0565 - rpn_bbox_loss: 0.4100 - mrcnn_class_loss: 0.2079 - mrcnn_bbox_loss: 0.1562 - mrcnn_mask_loss: 0.2221 - val_loss: 1.3245 - val_rpn_class_loss: 0.0618 - val_rpn_bbox_loss: 0.5543 - val_mrcnn_class_loss: 0.2569 - val_mrcnn_bbox_loss: 0.2008 - val_mrcnn_mask_loss: 0.2508\n",
            "Epoch 10/20\n",
            "105/105 [==============================] - 661s 6s/step - loss: 1.0162 - rpn_class_loss: 0.0515 - rpn_bbox_loss: 0.3954 - mrcnn_class_loss: 0.1986 - mrcnn_bbox_loss: 0.1535 - mrcnn_mask_loss: 0.2173 - val_loss: 1.2827 - val_rpn_class_loss: 0.0758 - val_rpn_bbox_loss: 0.4577 - val_mrcnn_class_loss: 0.2577 - val_mrcnn_bbox_loss: 0.2068 - val_mrcnn_mask_loss: 0.2847\n",
            "Epoch 11/20\n",
            "105/105 [==============================] - 695s 7s/step - loss: 1.0032 - rpn_class_loss: 0.0495 - rpn_bbox_loss: 0.3931 - mrcnn_class_loss: 0.2001 - mrcnn_bbox_loss: 0.1453 - mrcnn_mask_loss: 0.2152 - val_loss: 1.1172 - val_rpn_class_loss: 0.0640 - val_rpn_bbox_loss: 0.4098 - val_mrcnn_class_loss: 0.2381 - val_mrcnn_bbox_loss: 0.1715 - val_mrcnn_mask_loss: 0.2338\n",
            "Epoch 12/20\n",
            "105/105 [==============================] - 653s 6s/step - loss: 1.0148 - rpn_class_loss: 0.0514 - rpn_bbox_loss: 0.3863 - mrcnn_class_loss: 0.2052 - mrcnn_bbox_loss: 0.1508 - mrcnn_mask_loss: 0.2211 - val_loss: 1.3138 - val_rpn_class_loss: 0.0504 - val_rpn_bbox_loss: 0.5354 - val_mrcnn_class_loss: 0.2447 - val_mrcnn_bbox_loss: 0.2174 - val_mrcnn_mask_loss: 0.2660\n",
            "Epoch 13/20\n",
            "105/105 [==============================] - 641s 6s/step - loss: 0.9786 - rpn_class_loss: 0.0493 - rpn_bbox_loss: 0.3746 - mrcnn_class_loss: 0.1966 - mrcnn_bbox_loss: 0.1428 - mrcnn_mask_loss: 0.2153 - val_loss: 1.2109 - val_rpn_class_loss: 0.0453 - val_rpn_bbox_loss: 0.4816 - val_mrcnn_class_loss: 0.2484 - val_mrcnn_bbox_loss: 0.1781 - val_mrcnn_mask_loss: 0.2575\n",
            "Epoch 14/20\n",
            "105/105 [==============================] - 686s 7s/step - loss: 0.9667 - rpn_class_loss: 0.0495 - rpn_bbox_loss: 0.3670 - mrcnn_class_loss: 0.1918 - mrcnn_bbox_loss: 0.1433 - mrcnn_mask_loss: 0.2152 - val_loss: 1.2854 - val_rpn_class_loss: 0.0571 - val_rpn_bbox_loss: 0.4584 - val_mrcnn_class_loss: 0.2591 - val_mrcnn_bbox_loss: 0.2095 - val_mrcnn_mask_loss: 0.3013\n",
            "Epoch 15/20\n",
            "105/105 [==============================] - 599s 6s/step - loss: 0.9744 - rpn_class_loss: 0.0466 - rpn_bbox_loss: 0.3618 - mrcnn_class_loss: 0.2006 - mrcnn_bbox_loss: 0.1458 - mrcnn_mask_loss: 0.2196 - val_loss: 1.0615 - val_rpn_class_loss: 0.0386 - val_rpn_bbox_loss: 0.3753 - val_mrcnn_class_loss: 0.2375 - val_mrcnn_bbox_loss: 0.1708 - val_mrcnn_mask_loss: 0.2393\n",
            "Epoch 16/20\n",
            "105/105 [==============================] - 648s 6s/step - loss: 0.9360 - rpn_class_loss: 0.0430 - rpn_bbox_loss: 0.3349 - mrcnn_class_loss: 0.1945 - mrcnn_bbox_loss: 0.1453 - mrcnn_mask_loss: 0.2183 - val_loss: 1.2473 - val_rpn_class_loss: 0.0749 - val_rpn_bbox_loss: 0.4614 - val_mrcnn_class_loss: 0.2681 - val_mrcnn_bbox_loss: 0.1799 - val_mrcnn_mask_loss: 0.2629\n",
            "Epoch 17/20\n",
            "105/105 [==============================] - 701s 7s/step - loss: 0.9333 - rpn_class_loss: 0.0451 - rpn_bbox_loss: 0.3407 - mrcnn_class_loss: 0.1906 - mrcnn_bbox_loss: 0.1425 - mrcnn_mask_loss: 0.2144 - val_loss: 1.1926 - val_rpn_class_loss: 0.0606 - val_rpn_bbox_loss: 0.4360 - val_mrcnn_class_loss: 0.2388 - val_mrcnn_bbox_loss: 0.1729 - val_mrcnn_mask_loss: 0.2843\n",
            "Epoch 18/20\n",
            "105/105 [==============================] - 693s 7s/step - loss: 0.9679 - rpn_class_loss: 0.0450 - rpn_bbox_loss: 0.3518 - mrcnn_class_loss: 0.1991 - mrcnn_bbox_loss: 0.1501 - mrcnn_mask_loss: 0.2219 - val_loss: 1.2063 - val_rpn_class_loss: 0.0652 - val_rpn_bbox_loss: 0.4347 - val_mrcnn_class_loss: 0.2431 - val_mrcnn_bbox_loss: 0.1946 - val_mrcnn_mask_loss: 0.2688\n",
            "Epoch 19/20\n",
            "105/105 [==============================] - 651s 6s/step - loss: 0.9308 - rpn_class_loss: 0.0458 - rpn_bbox_loss: 0.3370 - mrcnn_class_loss: 0.1924 - mrcnn_bbox_loss: 0.1404 - mrcnn_mask_loss: 0.2152 - val_loss: 1.0525 - val_rpn_class_loss: 0.0327 - val_rpn_bbox_loss: 0.3812 - val_mrcnn_class_loss: 0.2419 - val_mrcnn_bbox_loss: 0.1593 - val_mrcnn_mask_loss: 0.2375\n",
            "Epoch 20/20\n",
            "105/105 [==============================] - 652s 6s/step - loss: 0.9347 - rpn_class_loss: 0.0421 - rpn_bbox_loss: 0.3483 - mrcnn_class_loss: 0.1887 - mrcnn_bbox_loss: 0.1406 - mrcnn_mask_loss: 0.2149 - val_loss: 1.2242 - val_rpn_class_loss: 0.0609 - val_rpn_bbox_loss: 0.4900 - val_mrcnn_class_loss: 0.2534 - val_mrcnn_bbox_loss: 0.1834 - val_mrcnn_mask_loss: 0.2365\n",
            "Train all layers\n",
            "\n",
            "Starting at epoch 20. LR=0.001\n",
            "\n",
            "Checkpoint Path: logs/nucleus20190617T2000/mask_rcnn_nucleus_{epoch:04d}.h5\n",
            "Selecting layers to train\n",
            "conv1                  (Conv2D)\n",
            "bn_conv1               (BatchNorm)\n",
            "res2a_branch2a         (Conv2D)\n",
            "bn2a_branch2a          (BatchNorm)\n",
            "res2a_branch2b         (Conv2D)\n",
            "bn2a_branch2b          (BatchNorm)\n",
            "res2a_branch2c         (Conv2D)\n",
            "res2a_branch1          (Conv2D)\n",
            "bn2a_branch2c          (BatchNorm)\n",
            "bn2a_branch1           (BatchNorm)\n",
            "res2b_branch2a         (Conv2D)\n",
            "bn2b_branch2a          (BatchNorm)\n",
            "res2b_branch2b         (Conv2D)\n",
            "bn2b_branch2b          (BatchNorm)\n",
            "res2b_branch2c         (Conv2D)\n",
            "bn2b_branch2c          (BatchNorm)\n",
            "res2c_branch2a         (Conv2D)\n",
            "bn2c_branch2a          (BatchNorm)\n",
            "res2c_branch2b         (Conv2D)\n",
            "bn2c_branch2b          (BatchNorm)\n",
            "res2c_branch2c         (Conv2D)\n",
            "bn2c_branch2c          (BatchNorm)\n",
            "res3a_branch2a         (Conv2D)\n",
            "bn3a_branch2a          (BatchNorm)\n",
            "res3a_branch2b         (Conv2D)\n",
            "bn3a_branch2b          (BatchNorm)\n",
            "res3a_branch2c         (Conv2D)\n",
            "res3a_branch1          (Conv2D)\n",
            "bn3a_branch2c          (BatchNorm)\n",
            "bn3a_branch1           (BatchNorm)\n",
            "res3b_branch2a         (Conv2D)\n",
            "bn3b_branch2a          (BatchNorm)\n",
            "res3b_branch2b         (Conv2D)\n",
            "bn3b_branch2b          (BatchNorm)\n",
            "res3b_branch2c         (Conv2D)\n",
            "bn3b_branch2c          (BatchNorm)\n",
            "res3c_branch2a         (Conv2D)\n",
            "bn3c_branch2a          (BatchNorm)\n",
            "res3c_branch2b         (Conv2D)\n",
            "bn3c_branch2b          (BatchNorm)\n",
            "res3c_branch2c         (Conv2D)\n",
            "bn3c_branch2c          (BatchNorm)\n",
            "res3d_branch2a         (Conv2D)\n",
            "bn3d_branch2a          (BatchNorm)\n",
            "res3d_branch2b         (Conv2D)\n",
            "bn3d_branch2b          (BatchNorm)\n",
            "res3d_branch2c         (Conv2D)\n",
            "bn3d_branch2c          (BatchNorm)\n",
            "res4a_branch2a         (Conv2D)\n",
            "bn4a_branch2a          (BatchNorm)\n",
            "res4a_branch2b         (Conv2D)\n",
            "bn4a_branch2b          (BatchNorm)\n",
            "res4a_branch2c         (Conv2D)\n",
            "res4a_branch1          (Conv2D)\n",
            "bn4a_branch2c          (BatchNorm)\n",
            "bn4a_branch1           (BatchNorm)\n",
            "res4b_branch2a         (Conv2D)\n",
            "bn4b_branch2a          (BatchNorm)\n",
            "res4b_branch2b         (Conv2D)\n",
            "bn4b_branch2b          (BatchNorm)\n",
            "res4b_branch2c         (Conv2D)\n",
            "bn4b_branch2c          (BatchNorm)\n",
            "res4c_branch2a         (Conv2D)\n",
            "bn4c_branch2a          (BatchNorm)\n",
            "res4c_branch2b         (Conv2D)\n",
            "bn4c_branch2b          (BatchNorm)\n",
            "res4c_branch2c         (Conv2D)\n",
            "bn4c_branch2c          (BatchNorm)\n",
            "res4d_branch2a         (Conv2D)\n",
            "bn4d_branch2a          (BatchNorm)\n",
            "res4d_branch2b         (Conv2D)\n",
            "bn4d_branch2b          (BatchNorm)\n",
            "res4d_branch2c         (Conv2D)\n",
            "bn4d_branch2c          (BatchNorm)\n",
            "res4e_branch2a         (Conv2D)\n",
            "bn4e_branch2a          (BatchNorm)\n",
            "res4e_branch2b         (Conv2D)\n",
            "bn4e_branch2b          (BatchNorm)\n",
            "res4e_branch2c         (Conv2D)\n",
            "bn4e_branch2c          (BatchNorm)\n",
            "res4f_branch2a         (Conv2D)\n",
            "bn4f_branch2a          (BatchNorm)\n",
            "res4f_branch2b         (Conv2D)\n",
            "bn4f_branch2b          (BatchNorm)\n",
            "res4f_branch2c         (Conv2D)\n",
            "bn4f_branch2c          (BatchNorm)\n",
            "res5a_branch2a         (Conv2D)\n",
            "bn5a_branch2a          (BatchNorm)\n",
            "res5a_branch2b         (Conv2D)\n",
            "bn5a_branch2b          (BatchNorm)\n",
            "res5a_branch2c         (Conv2D)\n",
            "res5a_branch1          (Conv2D)\n",
            "bn5a_branch2c          (BatchNorm)\n",
            "bn5a_branch1           (BatchNorm)\n",
            "res5b_branch2a         (Conv2D)\n",
            "bn5b_branch2a          (BatchNorm)\n",
            "res5b_branch2b         (Conv2D)\n",
            "bn5b_branch2b          (BatchNorm)\n",
            "res5b_branch2c         (Conv2D)\n",
            "bn5b_branch2c          (BatchNorm)\n",
            "res5c_branch2a         (Conv2D)\n",
            "bn5c_branch2a          (BatchNorm)\n",
            "res5c_branch2b         (Conv2D)\n",
            "bn5c_branch2b          (BatchNorm)\n",
            "res5c_branch2c         (Conv2D)\n",
            "bn5c_branch2c          (BatchNorm)\n",
            "fpn_c5p5               (Conv2D)\n",
            "fpn_c4p4               (Conv2D)\n",
            "fpn_c3p3               (Conv2D)\n",
            "fpn_c2p2               (Conv2D)\n",
            "fpn_p5                 (Conv2D)\n",
            "fpn_p2                 (Conv2D)\n",
            "fpn_p3                 (Conv2D)\n",
            "fpn_p4                 (Conv2D)\n",
            "In model:  rpn_model\n",
            "    rpn_conv_shared        (Conv2D)\n",
            "    rpn_class_raw          (Conv2D)\n",
            "    rpn_bbox_pred          (Conv2D)\n",
            "mrcnn_mask_conv1       (TimeDistributed)\n",
            "mrcnn_mask_bn1         (TimeDistributed)\n",
            "mrcnn_mask_conv2       (TimeDistributed)\n",
            "mrcnn_mask_bn2         (TimeDistributed)\n",
            "mrcnn_class_conv1      (TimeDistributed)\n",
            "mrcnn_class_bn1        (TimeDistributed)\n",
            "mrcnn_mask_conv3       (TimeDistributed)\n",
            "mrcnn_mask_bn3         (TimeDistributed)\n",
            "mrcnn_class_conv2      (TimeDistributed)\n",
            "mrcnn_class_bn2        (TimeDistributed)\n",
            "mrcnn_mask_conv4       (TimeDistributed)\n",
            "mrcnn_mask_bn4         (TimeDistributed)\n",
            "mrcnn_bbox_fc          (TimeDistributed)\n",
            "mrcnn_mask_deconv      (TimeDistributed)\n",
            "mrcnn_class_logits     (TimeDistributed)\n",
            "mrcnn_mask             (TimeDistributed)\n"
          ],
          "name": "stdout"
        },
        {
          "output_type": "stream",
          "text": [
            "/usr/local/lib/python3.6/dist-packages/tensorflow/python/ops/gradients_util.py:93: UserWarning: Converting sparse IndexedSlices to a dense Tensor of unknown shape. This may consume a large amount of memory.\n",
            "  \"Converting sparse IndexedSlices to a dense Tensor of unknown shape. \"\n",
            "/usr/local/lib/python3.6/dist-packages/tensorflow/python/ops/gradients_util.py:93: UserWarning: Converting sparse IndexedSlices to a dense Tensor of unknown shape. This may consume a large amount of memory.\n",
            "  \"Converting sparse IndexedSlices to a dense Tensor of unknown shape. \"\n",
            "/usr/local/lib/python3.6/dist-packages/tensorflow/python/ops/gradients_util.py:93: UserWarning: Converting sparse IndexedSlices to a dense Tensor of unknown shape. This may consume a large amount of memory.\n",
            "  \"Converting sparse IndexedSlices to a dense Tensor of unknown shape. \"\n",
            "/usr/local/lib/python3.6/dist-packages/keras/engine/training_generator.py:47: UserWarning: Using a generator with `use_multiprocessing=True` and multiple workers may duplicate your data. Please consider using the`keras.utils.Sequence class.\n",
            "  UserWarning('Using a generator with `use_multiprocessing=True`'\n"
          ],
          "name": "stderr"
        },
        {
          "output_type": "stream",
          "text": [
            "Epoch 21/40\n",
            "105/105 [==============================] - 1331s 13s/step - loss: 0.9419 - rpn_class_loss: 0.0437 - rpn_bbox_loss: 0.3426 - mrcnn_class_loss: 0.1954 - mrcnn_bbox_loss: 0.1435 - mrcnn_mask_loss: 0.2166 - val_loss: 1.1205 - val_rpn_class_loss: 0.0366 - val_rpn_bbox_loss: 0.4007 - val_mrcnn_class_loss: 0.2305 - val_mrcnn_bbox_loss: 0.1864 - val_mrcnn_mask_loss: 0.2662\n",
            "Epoch 22/40\n",
            "105/105 [==============================] - 952s 9s/step - loss: 0.9112 - rpn_class_loss: 0.0419 - rpn_bbox_loss: 0.3086 - mrcnn_class_loss: 0.2009 - mrcnn_bbox_loss: 0.1399 - mrcnn_mask_loss: 0.2198 - val_loss: 0.9653 - val_rpn_class_loss: 0.0467 - val_rpn_bbox_loss: 0.3219 - val_mrcnn_class_loss: 0.2310 - val_mrcnn_bbox_loss: 0.1518 - val_mrcnn_mask_loss: 0.2139\n",
            "Epoch 23/40\n",
            "105/105 [==============================] - 656s 6s/step - loss: 0.8659 - rpn_class_loss: 0.0369 - rpn_bbox_loss: 0.2909 - mrcnn_class_loss: 0.1893 - mrcnn_bbox_loss: 0.1340 - mrcnn_mask_loss: 0.2147 - val_loss: 1.1305 - val_rpn_class_loss: 0.0590 - val_rpn_bbox_loss: 0.3669 - val_mrcnn_class_loss: 0.2360 - val_mrcnn_bbox_loss: 0.2027 - val_mrcnn_mask_loss: 0.2659\n",
            "Epoch 24/40\n",
            "105/105 [==============================] - 709s 7s/step - loss: 0.8761 - rpn_class_loss: 0.0374 - rpn_bbox_loss: 0.2939 - mrcnn_class_loss: 0.1991 - mrcnn_bbox_loss: 0.1334 - mrcnn_mask_loss: 0.2122 - val_loss: 1.1115 - val_rpn_class_loss: 0.0593 - val_rpn_bbox_loss: 0.3797 - val_mrcnn_class_loss: 0.2455 - val_mrcnn_bbox_loss: 0.1741 - val_mrcnn_mask_loss: 0.2528\n",
            "Epoch 25/40\n",
            "105/105 [==============================] - 666s 6s/step - loss: 0.8498 - rpn_class_loss: 0.0337 - rpn_bbox_loss: 0.2781 - mrcnn_class_loss: 0.1922 - mrcnn_bbox_loss: 0.1345 - mrcnn_mask_loss: 0.2113 - val_loss: 1.0384 - val_rpn_class_loss: 0.0413 - val_rpn_bbox_loss: 0.3162 - val_mrcnn_class_loss: 0.2643 - val_mrcnn_bbox_loss: 0.1671 - val_mrcnn_mask_loss: 0.2495\n",
            "Epoch 26/40\n",
            "105/105 [==============================] - 651s 6s/step - loss: 0.8312 - rpn_class_loss: 0.0338 - rpn_bbox_loss: 0.2619 - mrcnn_class_loss: 0.1918 - mrcnn_bbox_loss: 0.1313 - mrcnn_mask_loss: 0.2124 - val_loss: 0.9808 - val_rpn_class_loss: 0.0248 - val_rpn_bbox_loss: 0.3044 - val_mrcnn_class_loss: 0.2280 - val_mrcnn_bbox_loss: 0.1709 - val_mrcnn_mask_loss: 0.2526\n",
            "Epoch 27/40\n",
            "105/105 [==============================] - 650s 6s/step - loss: 0.8376 - rpn_class_loss: 0.0331 - rpn_bbox_loss: 0.2644 - mrcnn_class_loss: 0.1901 - mrcnn_bbox_loss: 0.1349 - mrcnn_mask_loss: 0.2150 - val_loss: 1.0068 - val_rpn_class_loss: 0.0360 - val_rpn_bbox_loss: 0.3370 - val_mrcnn_class_loss: 0.2226 - val_mrcnn_bbox_loss: 0.1679 - val_mrcnn_mask_loss: 0.2433\n",
            "Epoch 28/40\n",
            "105/105 [==============================] - 727s 7s/step - loss: 0.8059 - rpn_class_loss: 0.0312 - rpn_bbox_loss: 0.2532 - mrcnn_class_loss: 0.1852 - mrcnn_bbox_loss: 0.1267 - mrcnn_mask_loss: 0.2095 - val_loss: 0.9450 - val_rpn_class_loss: 0.0257 - val_rpn_bbox_loss: 0.3063 - val_mrcnn_class_loss: 0.2187 - val_mrcnn_bbox_loss: 0.1549 - val_mrcnn_mask_loss: 0.2393\n",
            "Epoch 29/40\n",
            "105/105 [==============================] - 624s 6s/step - loss: 0.7917 - rpn_class_loss: 0.0291 - rpn_bbox_loss: 0.2453 - mrcnn_class_loss: 0.1790 - mrcnn_bbox_loss: 0.1278 - mrcnn_mask_loss: 0.2106 - val_loss: 0.8722 - val_rpn_class_loss: 0.0261 - val_rpn_bbox_loss: 0.2767 - val_mrcnn_class_loss: 0.2048 - val_mrcnn_bbox_loss: 0.1426 - val_mrcnn_mask_loss: 0.2220\n",
            "Epoch 30/40\n",
            "105/105 [==============================] - 684s 7s/step - loss: 0.7728 - rpn_class_loss: 0.0269 - rpn_bbox_loss: 0.2440 - mrcnn_class_loss: 0.1753 - mrcnn_bbox_loss: 0.1214 - mrcnn_mask_loss: 0.2053 - val_loss: 1.1023 - val_rpn_class_loss: 0.0502 - val_rpn_bbox_loss: 0.3325 - val_mrcnn_class_loss: 0.2714 - val_mrcnn_bbox_loss: 0.1791 - val_mrcnn_mask_loss: 0.2691\n",
            "Epoch 31/40\n",
            "105/105 [==============================] - 688s 7s/step - loss: 0.8064 - rpn_class_loss: 0.0290 - rpn_bbox_loss: 0.2454 - mrcnn_class_loss: 0.1861 - mrcnn_bbox_loss: 0.1319 - mrcnn_mask_loss: 0.2141 - val_loss: 1.0308 - val_rpn_class_loss: 0.0471 - val_rpn_bbox_loss: 0.3403 - val_mrcnn_class_loss: 0.2366 - val_mrcnn_bbox_loss: 0.1615 - val_mrcnn_mask_loss: 0.2453\n",
            "Epoch 32/40\n",
            "105/105 [==============================] - 708s 7s/step - loss: 0.7973 - rpn_class_loss: 0.0298 - rpn_bbox_loss: 0.2488 - mrcnn_class_loss: 0.1828 - mrcnn_bbox_loss: 0.1245 - mrcnn_mask_loss: 0.2114 - val_loss: 0.8794 - val_rpn_class_loss: 0.0205 - val_rpn_bbox_loss: 0.2823 - val_mrcnn_class_loss: 0.2119 - val_mrcnn_bbox_loss: 0.1378 - val_mrcnn_mask_loss: 0.2268\n",
            "Epoch 33/40\n",
            "105/105 [==============================] - 691s 7s/step - loss: 0.7874 - rpn_class_loss: 0.0296 - rpn_bbox_loss: 0.2434 - mrcnn_class_loss: 0.1780 - mrcnn_bbox_loss: 0.1267 - mrcnn_mask_loss: 0.2097 - val_loss: 0.9943 - val_rpn_class_loss: 0.0301 - val_rpn_bbox_loss: 0.3123 - val_mrcnn_class_loss: 0.2237 - val_mrcnn_bbox_loss: 0.1723 - val_mrcnn_mask_loss: 0.2559\n",
            "Epoch 34/40\n",
            "105/105 [==============================] - 646s 6s/step - loss: 0.7940 - rpn_class_loss: 0.0289 - rpn_bbox_loss: 0.2365 - mrcnn_class_loss: 0.1855 - mrcnn_bbox_loss: 0.1292 - mrcnn_mask_loss: 0.2139 - val_loss: 0.9412 - val_rpn_class_loss: 0.0219 - val_rpn_bbox_loss: 0.3029 - val_mrcnn_class_loss: 0.2219 - val_mrcnn_bbox_loss: 0.1499 - val_mrcnn_mask_loss: 0.2445\n",
            "Epoch 35/40\n",
            "105/105 [==============================] - 690s 7s/step - loss: 0.7708 - rpn_class_loss: 0.0274 - rpn_bbox_loss: 0.2344 - mrcnn_class_loss: 0.1759 - mrcnn_bbox_loss: 0.1245 - mrcnn_mask_loss: 0.2086 - val_loss: 0.8159 - val_rpn_class_loss: 0.0287 - val_rpn_bbox_loss: 0.2838 - val_mrcnn_class_loss: 0.1782 - val_mrcnn_bbox_loss: 0.1087 - val_mrcnn_mask_loss: 0.2165\n",
            "Epoch 36/40\n",
            "105/105 [==============================] - 667s 6s/step - loss: 0.7712 - rpn_class_loss: 0.0284 - rpn_bbox_loss: 0.2355 - mrcnn_class_loss: 0.1745 - mrcnn_bbox_loss: 0.1219 - mrcnn_mask_loss: 0.2108 - val_loss: 0.9747 - val_rpn_class_loss: 0.0389 - val_rpn_bbox_loss: 0.2998 - val_mrcnn_class_loss: 0.2285 - val_mrcnn_bbox_loss: 0.1689 - val_mrcnn_mask_loss: 0.2386\n",
            "Epoch 37/40\n",
            "105/105 [==============================] - 710s 7s/step - loss: 0.7510 - rpn_class_loss: 0.0272 - rpn_bbox_loss: 0.2221 - mrcnn_class_loss: 0.1734 - mrcnn_bbox_loss: 0.1208 - mrcnn_mask_loss: 0.2074 - val_loss: 1.0437 - val_rpn_class_loss: 0.0274 - val_rpn_bbox_loss: 0.3342 - val_mrcnn_class_loss: 0.2549 - val_mrcnn_bbox_loss: 0.1647 - val_mrcnn_mask_loss: 0.2625\n",
            "Epoch 38/40\n",
            "105/105 [==============================] - 671s 6s/step - loss: 0.7618 - rpn_class_loss: 0.0278 - rpn_bbox_loss: 0.2246 - mrcnn_class_loss: 0.1762 - mrcnn_bbox_loss: 0.1233 - mrcnn_mask_loss: 0.2099 - val_loss: 0.8713 - val_rpn_class_loss: 0.0345 - val_rpn_bbox_loss: 0.2582 - val_mrcnn_class_loss: 0.2201 - val_mrcnn_bbox_loss: 0.1418 - val_mrcnn_mask_loss: 0.2167\n",
            "Epoch 39/40\n",
            "105/105 [==============================] - 687s 7s/step - loss: 0.7785 - rpn_class_loss: 0.0287 - rpn_bbox_loss: 0.2320 - mrcnn_class_loss: 0.1778 - mrcnn_bbox_loss: 0.1266 - mrcnn_mask_loss: 0.2134 - val_loss: 0.9497 - val_rpn_class_loss: 0.0503 - val_rpn_bbox_loss: 0.2669 - val_mrcnn_class_loss: 0.2378 - val_mrcnn_bbox_loss: 0.1577 - val_mrcnn_mask_loss: 0.2370\n",
            "Epoch 40/40\n",
            "105/105 [==============================] - 656s 6s/step - loss: 0.7382 - rpn_class_loss: 0.0260 - rpn_bbox_loss: 0.2180 - mrcnn_class_loss: 0.1691 - mrcnn_bbox_loss: 0.1188 - mrcnn_mask_loss: 0.2063 - val_loss: 0.8074 - val_rpn_class_loss: 0.0288 - val_rpn_bbox_loss: 0.2370 - val_mrcnn_class_loss: 0.1918 - val_mrcnn_bbox_loss: 0.1302 - val_mrcnn_mask_loss: 0.2195\n"
          ],
          "name": "stdout"
        }
      ]
    },
    {
      "cell_type": "code",
      "metadata": {
        "id": "2KmZgtGH3bZr",
        "colab_type": "code",
        "outputId": "d8fda54f-c4e1-4f76-d4bc-c1c49e96c4c4",
        "colab": {
          "base_uri": "https://localhost:8080/",
          "height": 1006
        }
      },
      "source": [
        "## Detect\n",
        "\n",
        "config = NucleusInferenceConfig()\n",
        "config.display()\n",
        "\n",
        "model = modellib.MaskRCNN(mode=\"inference\", config=config,\n",
        "                          model_dir='logs/')"
      ],
      "execution_count": 0,
      "outputs": [
        {
          "output_type": "stream",
          "text": [
            "\n",
            "Configurations:\n",
            "BACKBONE                       resnet50\n",
            "BACKBONE_STRIDES               [4, 8, 16, 32, 64]\n",
            "BATCH_SIZE                     1\n",
            "BBOX_STD_DEV                   [0.1 0.1 0.2 0.2]\n",
            "COMPUTE_BACKBONE_SHAPE         None\n",
            "DETECTION_MAX_INSTANCES        400\n",
            "DETECTION_MIN_CONFIDENCE       0\n",
            "DETECTION_NMS_THRESHOLD        0.3\n",
            "FPN_CLASSIF_FC_LAYERS_SIZE     1024\n",
            "GPU_COUNT                      1\n",
            "GRADIENT_CLIP_NORM             5.0\n",
            "IMAGES_PER_GPU                 1\n",
            "IMAGE_CHANNEL_COUNT            3\n",
            "IMAGE_MAX_DIM                  512\n",
            "IMAGE_META_SIZE                14\n",
            "IMAGE_MIN_DIM                  512\n",
            "IMAGE_MIN_SCALE                2.0\n",
            "IMAGE_RESIZE_MODE              pad64\n",
            "IMAGE_SHAPE                    [512 512   3]\n",
            "LEARNING_MOMENTUM              0.9\n",
            "LEARNING_RATE                  0.001\n",
            "LOSS_WEIGHTS                   {'rpn_class_loss': 1.0, 'rpn_bbox_loss': 1.0, 'mrcnn_class_loss': 1.0, 'mrcnn_bbox_loss': 1.0, 'mrcnn_mask_loss': 1.0}\n",
            "MASK_POOL_SIZE                 14\n",
            "MASK_SHAPE                     [28, 28]\n",
            "MAX_GT_INSTANCES               200\n",
            "MEAN_PIXEL                     [43.53 39.56 48.22]\n",
            "MINI_MASK_SHAPE                (56, 56)\n",
            "NAME                           nucleus\n",
            "NUM_CLASSES                    2\n",
            "POOL_SIZE                      7\n",
            "POST_NMS_ROIS_INFERENCE        2000\n",
            "POST_NMS_ROIS_TRAINING         1000\n",
            "PRE_NMS_LIMIT                  6000\n",
            "ROI_POSITIVE_RATIO             0.33\n",
            "RPN_ANCHOR_RATIOS              [0.5, 1, 2]\n",
            "RPN_ANCHOR_SCALES              (8, 16, 32, 64, 128)\n",
            "RPN_ANCHOR_STRIDE              1\n",
            "RPN_BBOX_STD_DEV               [0.1 0.1 0.2 0.2]\n",
            "RPN_NMS_THRESHOLD              0.7\n",
            "RPN_TRAIN_ANCHORS_PER_IMAGE    64\n",
            "STEPS_PER_EPOCH                105\n",
            "TOP_DOWN_PYRAMID_SIZE          256\n",
            "TRAIN_BN                       False\n",
            "TRAIN_ROIS_PER_IMAGE           128\n",
            "USE_MINI_MASK                  True\n",
            "USE_RPN_ROIS                   True\n",
            "VALIDATION_STEPS               4\n",
            "WEIGHT_DECAY                   0.0001\n",
            "\n",
            "\n"
          ],
          "name": "stdout"
        },
        {
          "output_type": "stream",
          "text": [
            "W0618 05:53:10.516173 140402491152256 deprecation_wrapper.py:119] From /content/drive/My Drive/cartisan/Mask_RCNN/mrcnn/model.py:758: The name tf.sets.set_intersection is deprecated. Please use tf.sets.intersection instead.\n",
            "\n",
            "W0618 05:53:10.539551 140402491152256 deprecation.py:323] From /content/drive/My Drive/cartisan/Mask_RCNN/mrcnn/model.py:772: to_float (from tensorflow.python.ops.math_ops) is deprecated and will be removed in a future version.\n",
            "Instructions for updating:\n",
            "Use `tf.cast` instead.\n"
          ],
          "name": "stderr"
        }
      ]
    },
    {
      "cell_type": "code",
      "metadata": {
        "id": "Nw1zvg5R5DmZ",
        "colab_type": "code",
        "outputId": "18d5a990-73a4-4337-f379-f926771ae389",
        "colab": {
          "base_uri": "https://localhost:8080/",
          "height": 56501
        }
      },
      "source": [
        "detect(model, ROOT_DIR, 'stage1_test')"
      ],
      "execution_count": 0,
      "outputs": []
    },
    {
      "cell_type": "code",
      "metadata": {
        "id": "cw4fzk6fXvX6",
        "colab_type": "code",
        "outputId": "eb902838-aceb-432b-ef64-21eb4f0202ad",
        "colab": {
          "base_uri": "https://localhost:8080/",
          "height": 34
        }
      },
      "source": [
        "pwd"
      ],
      "execution_count": 0,
      "outputs": [
        {
          "output_type": "execute_result",
          "data": {
            "text/plain": [
              "'/content/drive/My Drive/cartisan/Mask_RCNN'"
            ]
          },
          "metadata": {
            "tags": []
          },
          "execution_count": 27
        }
      ]
    },
    {
      "cell_type": "code",
      "metadata": {
        "id": "fJUlK_kIXuaH",
        "colab_type": "code",
        "outputId": "acc47d9a-62bc-4147-e430-5394921ee6d7",
        "colab": {
          "base_uri": "https://localhost:8080/",
          "height": 1210
        }
      },
      "source": [
        "!zip -r ./results.zip ./results"
      ],
      "execution_count": 0,
      "outputs": [
        {
          "output_type": "stream",
          "text": [
            "  adding: results/ (stored 0%)\n",
            "  adding: results/nucleus/ (stored 0%)\n",
            "  adding: results/nucleus/submit_20190618T055746/ (stored 0%)\n",
            "  adding: results/nucleus/submit_20190618T055746/d616d323a9eeb9da1b66f8d5df671d63c092c9919cb2c0b223e29c63257c944d.png (deflated 83%)\n",
            "  adding: results/nucleus/submit_20190618T055746/a4816cc1fb76cb3c5e481186833fc0ae9cf426a1406a2607e974e65e9cddba4f.png (deflated 83%)\n",
            "  adding: results/nucleus/submit_20190618T055746/191b2b2205f2f5cc9da04702c5d422bc249faf8bca1107af792da63cccfba829.png (deflated 83%)\n",
            "  adding: results/nucleus/submit_20190618T055746/1747f62148a919c8feb6d607faeebdf504b5e2ad42b6b1710b1189c37ebcdb2c.png (deflated 83%)\n",
            "  adding: results/nucleus/submit_20190618T055746/4727d94c6a57ed484270fdd8bbc6e3d5f2f15d5476794a4e37a40f2309a091e2.png (deflated 83%)\n",
            "  adding: results/nucleus/submit_20190618T055746/3c4c675825f7509877bc10497f498c9a2e3433bf922bd870914a2eb21a54fd26.png (deflated 83%)\n",
            "  adding: results/nucleus/submit_20190618T055746/4f949bd8d914bbfa06f40d6a0e2b5b75c38bf53dbcbafc48c97f105bee4f8fac.png (deflated 83%)\n",
            "  adding: results/nucleus/submit_20190618T055746/43a71aeb641faa18742cb826772a8566c6c947d7050f9ab15459de6cc2b3b6af.png (deflated 83%)\n",
            "  adding: results/nucleus/submit_20190618T055746/1962d0c5faf3e85cda80e0578e0cb7aca50826d781620e5c1c4cc586bc69f81a.png (deflated 83%)\n",
            "  adding: results/nucleus/submit_20190618T055746/a984e7fb886aa02e29d112766d3ce26a4f78eac540ce7bbdbd42af2761928f6d.png (deflated 83%)\n",
            "  adding: results/nucleus/submit_20190618T055746/336d3e4105766f8ad328a7ee9571e743f376f8cbcf6a969ca7e353fe3235c523.png (deflated 83%)\n",
            "  adding: results/nucleus/submit_20190618T055746/78a981bd27ba0c65a9169548665a17bda9f49050d0d3893a6567d1eb92cd003d.png (deflated 83%)\n",
            "  adding: results/nucleus/submit_20190618T055746/0a849e0eb15faa8a6d7329c3dd66aabe9a294cccb52ed30a90c8ca99092ae732.png (deflated 83%)\n",
            "  adding: results/nucleus/submit_20190618T055746/f0d0ab13ff53adc3c4d57e95a5f83d80b06f2cbc0bf002b52cf7b496612e0ce4.png (deflated 83%)\n",
            "  adding: results/nucleus/submit_20190618T055746/f5effed21f671bbf4551ecebb7fe95f3be1cf09c16a60afe64d2f0b95be9d1eb.png (deflated 83%)\n",
            "  adding: results/nucleus/submit_20190618T055746/1879f4f4f05e2bada0ffeb46c128b8df7a79b14c84f38c3e216a69653495153b.png (deflated 83%)\n",
            "  adding: results/nucleus/submit_20190618T055746/da6c593410340b19bb212b9f6d274f95b08c0fc8f2570cd66bc5ed42c560acab.png (deflated 83%)\n",
            "  adding: results/nucleus/submit_20190618T055746/7f4cbe0b36b5d09466476a7d4e01f4f976c67872d549f4ff47b3e1e3a2b403af.png (deflated 83%)\n",
            "  adding: results/nucleus/submit_20190618T055746/0f1f896d9ae5a04752d3239c690402c022db4d72c0d2c087d73380896f72c466.png (deflated 83%)\n",
            "  adding: results/nucleus/submit_20190618T055746/8b59819fbc92eefe45b1db95c0cc3a467ddcfc755684c7f2ba2f6ccb9ad740ab.png (deflated 83%)\n",
            "  adding: results/nucleus/submit_20190618T055746/ade080c6618cbbb0a25680cf847f312b5e19b22bfe1cafec0436987ebe5b1e7e.png (deflated 83%)\n",
            "  adding: results/nucleus/submit_20190618T055746/432f367a4c5b5674de2e2977744d10289a064e5704b21af6607b4975be47c580.png (deflated 83%)\n",
            "  adding: results/nucleus/submit_20190618T055746/648c8ffa496e1716017906d0bf135debfc93386ae86aa3d4adbda9a505985fd9.png (deflated 83%)\n",
            "  adding: results/nucleus/submit_20190618T055746/eea70a7948d25a9a791dbcb39228af4ea4049fe5ebdee9c04884be8cca3da835.png (deflated 83%)\n",
            "  adding: results/nucleus/submit_20190618T055746/1d9eacb3161f1e2b45550389ecf7c535c7199c6b44b1c6a46303f7b965e508f1.png (deflated 83%)\n",
            "  adding: results/nucleus/submit_20190618T055746/d6eb7ce7723e2f6dc13b90b41a29ded27dbd815bad633fdf582447c686018896.png (deflated 83%)\n",
            "  adding: results/nucleus/submit_20190618T055746/1ef68e93964c2d9230100c1347c328f6385a7bc027879dc3d4c055e6fe80cb3c.png (deflated 83%)\n",
            "  adding: results/nucleus/submit_20190618T055746/550450e4bff4036fd671decdc5d42fec23578198d6a2fd79179c4368b9d6da18.png (deflated 83%)\n",
            "  adding: results/nucleus/submit_20190618T055746/ab298b962a63e4be9582513aaa84a5e270adba5fd2b16a50e59540524f63c3b8.png (deflated 83%)\n",
            "  adding: results/nucleus/submit_20190618T055746/0999dab07b11bc85fb8464fc36c947fbd8b5d6ec49817361cb780659ca805eac.png (deflated 83%)\n",
            "  adding: results/nucleus/submit_20190618T055746/51c70bb8a299943b27f8b354571272692d8f2705036a1a9562156c76da5f025b.png (deflated 83%)\n",
            "  adding: results/nucleus/submit_20190618T055746/7bdb668e6127b7eafc837a883f0648002bd063c736f55a4f673e787250a3fb04.png (deflated 83%)\n",
            "  adding: results/nucleus/submit_20190618T055746/fac507fa4d1649e8b24c195d990f1fc3ca3633d917839e1751a9d412a14ab5e3.png (deflated 83%)\n",
            "  adding: results/nucleus/submit_20190618T055746/295682d9eb5acb5c1976a460c085734bfaf38482b0a3f02591c2bfdcd4128549.png (deflated 83%)\n",
            "  adding: results/nucleus/submit_20190618T055746/9ab2d381f90b485a68b82bc07f94397a0373e3215ad20935a958738e55f3cfc2.png (deflated 83%)\n",
            "  adding: results/nucleus/submit_20190618T055746/dab46d798d29aff2e99c23f47ed3064f5cafb1644629b015c95a2dd2ee593bb4.png (deflated 83%)\n",
            "  adding: results/nucleus/submit_20190618T055746/0e132f71c8b4875c3c2dd7a22997468a3e842b46aa9bd47cf7b0e8b7d63f0925.png (deflated 83%)\n",
            "  adding: results/nucleus/submit_20190618T055746/fe9adb627a6f45747c5a8223b671774791ededf9364f6544be487c540107fa4f.png (deflated 83%)\n",
            "  adding: results/nucleus/submit_20190618T055746/8922a6ac8fd0258ec27738ca101867169b20d90a60fc84f93df77acd5bf7c80b.png (deflated 83%)\n",
            "  adding: results/nucleus/submit_20190618T055746/472b1c5ff988dadc209faea92499bc07f305208dbda29d16262b3d543ac91c71.png (deflated 83%)\n",
            "  adding: results/nucleus/submit_20190618T055746/0ed3555a4bd48046d3b63d8baf03a5aa97e523aa483aaa07459e7afa39fb96c6.png (deflated 83%)\n",
            "  adding: results/nucleus/submit_20190618T055746/df40099c6306ca1f47fcc8a62e2fa39486d4e223177afdc51b2ad189691802d8.png (deflated 83%)\n",
            "  adding: results/nucleus/submit_20190618T055746/e17b7aedd251a016c01ef9158e6e4aa940d9f1b35942d86028dc1222192a9258.png (deflated 83%)\n",
            "  adding: results/nucleus/submit_20190618T055746/699f2992cd71e2e28cf45f81347ff22e76b37541ce88087742884cd0e9aadc68.png (deflated 83%)\n",
            "  adding: results/nucleus/submit_20190618T055746/912a679e4b9b1d1a75170254fd675b8c24b664d80ad7ea7e460241a23535a406.png (deflated 83%)\n",
            "  adding: results/nucleus/submit_20190618T055746/53df5150ee56253fe5bc91a9230d377bb21f1300f443ba45a758bcb01a15c0e4.png (deflated 83%)\n",
            "  adding: results/nucleus/submit_20190618T055746/52b267e20519174e3ce1e1994b5d677804b16bc670aa5f6ffb6344a0fdf63fde.png (deflated 83%)\n",
            "  adding: results/nucleus/submit_20190618T055746/5cee644e5ffbef1ba021c7f389b33bafd3b1841f04d3edd7922d5084c2c4e0c7.png (deflated 83%)\n",
            "  adding: results/nucleus/submit_20190618T055746/38f5cfb55fc8b048e82a5c895b25fefae7a70c71ab9990c535d1030637bf6a1f.png (deflated 83%)\n",
            "  adding: results/nucleus/submit_20190618T055746/b83d1d77935b6cfd44105b54600ffc4b6bd82de57dec65571bcb117fa8398ba3.png (deflated 83%)\n",
            "  adding: results/nucleus/submit_20190618T055746/4be73d68f433869188fe5e7f09c7f681ed51003da6aa5d19ce368726d8e271ee.png (deflated 83%)\n",
            "  adding: results/nucleus/submit_20190618T055746/d8d4bf68a76e4e4c5f21de7ac613451f7115a04db686151e78b8ec0b6a22022b.png (deflated 83%)\n",
            "  adding: results/nucleus/submit_20190618T055746/31f1fbe85b8899258ea5bcf5f93f7ac8238660c386aeab40649c715bd2e38a0a.png (deflated 83%)\n",
            "  adding: results/nucleus/submit_20190618T055746/17b9bf4356db24967c4677b8376ac38f826de73a88b93a8d73a8b452e399cdff.png (deflated 83%)\n",
            "  adding: results/nucleus/submit_20190618T055746/ca20076870e8fb604e61802605a9ac45419c82dd3e23404c56c4869f9502a5ef.png (deflated 83%)\n",
            "  adding: results/nucleus/submit_20190618T055746/697a05c6fe4a07c601d46da80885645ad574ea19b47ee795ccff216c9f1f1808.png (deflated 83%)\n",
            "  adding: results/nucleus/submit_20190618T055746/9f17aea854db13015d19b34cb2022cfdeda44133323fcd6bb3545f7b9404d8ab.png (deflated 83%)\n",
            "  adding: results/nucleus/submit_20190618T055746/0114f484a16c152baa2d82fdd43740880a762c93f436c8988ac461c5c9dbe7d5.png (deflated 83%)\n",
            "  adding: results/nucleus/submit_20190618T055746/1cdbfee1951356e7b0a215073828695fe1ead5f8b1add119b6645d2fdc8d844e.png (deflated 83%)\n",
            "  adding: results/nucleus/submit_20190618T055746/505bc0a3928d8aef5ce441c5a611fdd32e1e8eccdc15cc3a52b88030acb50f81.png (deflated 83%)\n",
            "  adding: results/nucleus/submit_20190618T055746/519dc0d672d1c295fc69b629af8721ccb1a1f136d1976685a68487e62547ffe0.png (deflated 83%)\n",
            "  adding: results/nucleus/submit_20190618T055746/c8e79ff4ac55f4b772057de28e539727b7f4f2a3de73bf7a082a0ace86d609eb.png (deflated 83%)\n",
            "  adding: results/nucleus/submit_20190618T055746/bdc789019cee8ddfae20d5f769299993b4b330b2d38d1218646cf89e77fbbd4d.png (deflated 83%)\n",
            "  adding: results/nucleus/submit_20190618T055746/259b35151d4a7a5ffdd7ab7f171b142db8cfe40beeee67277fac6adca4d042c4.png (deflated 83%)\n",
            "  adding: results/nucleus/submit_20190618T055746/44afae184c89e6ba55985b4d341acc1ae1e8b6ef96312064e0e6e630e022b078.png (deflated 83%)\n",
            "  adding: results/nucleus/submit_20190618T055746/submit.csv (deflated 69%)\n"
          ],
          "name": "stdout"
        }
      ]
    },
    {
      "cell_type": "code",
      "metadata": {
        "id": "_BX4R2XDUcdR",
        "colab_type": "code",
        "colab": {}
      },
      "source": [
        "from google.colab import files\n",
        "files.download('results.zip')"
      ],
      "execution_count": 0,
      "outputs": []
    },
    {
      "cell_type": "code",
      "metadata": {
        "id": "q5xUAHb3XOOF",
        "colab_type": "code",
        "colab": {}
      },
      "source": [
        ""
      ],
      "execution_count": 0,
      "outputs": []
    }
  ]
}