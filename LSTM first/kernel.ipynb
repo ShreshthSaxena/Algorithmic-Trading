{
  "cells": [
    {
      "metadata": {
        "_cell_guid": "79c7e3d0-c299-4dcb-8224-4455121ee9b0",
        "_uuid": "d629ff2d2480ee46fbb7e2d37f6b5fab8052498a",
        "trusted": true
      },
      "cell_type": "code",
      "source": "import numpy as np\nimport matplotlib.pyplot as plt\nimport pandas as pd\nfrom pandas import datetime\nimport math, time\nimport itertools\nfrom sklearn import preprocessing\nimport datetime\nfrom operator import itemgetter\nfrom sklearn.metrics import mean_squared_error\nfrom math import sqrt\nfrom keras.models import Sequential\nfrom keras.layers.core import Dense, Dropout, Activation\nfrom keras.layers.recurrent import LSTM\nfrom keras.models import load_model\nimport keras\nimport h5py\nimport requests\nimport os",
      "execution_count": 1,
      "outputs": [
        {
          "output_type": "stream",
          "text": "Using TensorFlow backend.\n",
          "name": "stderr"
        }
      ]
    },
    {
      "metadata": {
        "trusted": true,
        "_uuid": "84a516ca083762f618219a4e759d98ab1b5346f9"
      },
      "cell_type": "code",
      "source": "df = pd.read_csv(\"../input/prices-split-adjusted.csv\", index_col = 0)\ndf[\"adj close\"] = df.close # Moving close to the last column\ndf.drop(['close'], 1, inplace=True) # Moving close to the last column\ndf.head()",
      "execution_count": 2,
      "outputs": [
        {
          "output_type": "execute_result",
          "execution_count": 2,
          "data": {
            "text/plain": "           symbol        open     ...         volume   adj close\ndate                              ...                           \n2016-01-05   WLTW  123.430000     ...      2163600.0  125.839996\n2016-01-06   WLTW  125.239998     ...      2386400.0  119.980003\n2016-01-07   WLTW  116.379997     ...      2489500.0  114.949997\n2016-01-08   WLTW  115.480003     ...      2006300.0  116.620003\n2016-01-11   WLTW  117.010002     ...      1408600.0  114.970001\n\n[5 rows x 6 columns]",
            "text/html": "<div>\n<style scoped>\n    .dataframe tbody tr th:only-of-type {\n        vertical-align: middle;\n    }\n\n    .dataframe tbody tr th {\n        vertical-align: top;\n    }\n\n    .dataframe thead th {\n        text-align: right;\n    }\n</style>\n<table border=\"1\" class=\"dataframe\">\n  <thead>\n    <tr style=\"text-align: right;\">\n      <th></th>\n      <th>symbol</th>\n      <th>open</th>\n      <th>low</th>\n      <th>high</th>\n      <th>volume</th>\n      <th>adj close</th>\n    </tr>\n    <tr>\n      <th>date</th>\n      <th></th>\n      <th></th>\n      <th></th>\n      <th></th>\n      <th></th>\n      <th></th>\n    </tr>\n  </thead>\n  <tbody>\n    <tr>\n      <th>2016-01-05</th>\n      <td>WLTW</td>\n      <td>123.430000</td>\n      <td>122.309998</td>\n      <td>126.250000</td>\n      <td>2163600.0</td>\n      <td>125.839996</td>\n    </tr>\n    <tr>\n      <th>2016-01-06</th>\n      <td>WLTW</td>\n      <td>125.239998</td>\n      <td>119.940002</td>\n      <td>125.540001</td>\n      <td>2386400.0</td>\n      <td>119.980003</td>\n    </tr>\n    <tr>\n      <th>2016-01-07</th>\n      <td>WLTW</td>\n      <td>116.379997</td>\n      <td>114.930000</td>\n      <td>119.739998</td>\n      <td>2489500.0</td>\n      <td>114.949997</td>\n    </tr>\n    <tr>\n      <th>2016-01-08</th>\n      <td>WLTW</td>\n      <td>115.480003</td>\n      <td>113.500000</td>\n      <td>117.440002</td>\n      <td>2006300.0</td>\n      <td>116.620003</td>\n    </tr>\n    <tr>\n      <th>2016-01-11</th>\n      <td>WLTW</td>\n      <td>117.010002</td>\n      <td>114.089996</td>\n      <td>117.330002</td>\n      <td>1408600.0</td>\n      <td>114.970001</td>\n    </tr>\n  </tbody>\n</table>\n</div>"
          },
          "metadata": {}
        }
      ]
    },
    {
      "metadata": {
        "trusted": true,
        "_uuid": "a8c3be196d0d523e16bdf234cabb030682d3c647"
      },
      "cell_type": "code",
      "source": "df2 = pd.read_csv(\"../input/fundamentals.csv\")\ndf2.head()",
      "execution_count": 3,
      "outputs": [
        {
          "output_type": "execute_result",
          "execution_count": 3,
          "data": {
            "text/plain": "   Unnamed: 0             ...              Estimated Shares Outstanding\n0           0             ...                              3.350000e+08\n1           1             ...                              1.630222e+08\n2           2             ...                              7.169154e+08\n3           3             ...                              6.681299e+08\n4           4             ...                              7.328355e+07\n\n[5 rows x 79 columns]",
            "text/html": "<div>\n<style scoped>\n    .dataframe tbody tr th:only-of-type {\n        vertical-align: middle;\n    }\n\n    .dataframe tbody tr th {\n        vertical-align: top;\n    }\n\n    .dataframe thead th {\n        text-align: right;\n    }\n</style>\n<table border=\"1\" class=\"dataframe\">\n  <thead>\n    <tr style=\"text-align: right;\">\n      <th></th>\n      <th>Unnamed: 0</th>\n      <th>Ticker Symbol</th>\n      <th>Period Ending</th>\n      <th>Accounts Payable</th>\n      <th>Accounts Receivable</th>\n      <th>Add'l income/expense items</th>\n      <th>After Tax ROE</th>\n      <th>Capital Expenditures</th>\n      <th>Capital Surplus</th>\n      <th>Cash Ratio</th>\n      <th>Cash and Cash Equivalents</th>\n      <th>Changes in Inventories</th>\n      <th>Common Stocks</th>\n      <th>Cost of Revenue</th>\n      <th>Current Ratio</th>\n      <th>Deferred Asset Charges</th>\n      <th>Deferred Liability Charges</th>\n      <th>Depreciation</th>\n      <th>Earnings Before Interest and Tax</th>\n      <th>Earnings Before Tax</th>\n      <th>Effect of Exchange Rate</th>\n      <th>Equity Earnings/Loss Unconsolidated Subsidiary</th>\n      <th>Fixed Assets</th>\n      <th>Goodwill</th>\n      <th>Gross Margin</th>\n      <th>Gross Profit</th>\n      <th>Income Tax</th>\n      <th>Intangible Assets</th>\n      <th>Interest Expense</th>\n      <th>Inventory</th>\n      <th>Investments</th>\n      <th>Liabilities</th>\n      <th>Long-Term Debt</th>\n      <th>Long-Term Investments</th>\n      <th>Minority Interest</th>\n      <th>Misc. Stocks</th>\n      <th>Net Borrowings</th>\n      <th>Net Cash Flow</th>\n      <th>Net Cash Flow-Operating</th>\n      <th>Net Cash Flows-Financing</th>\n      <th>Net Cash Flows-Investing</th>\n      <th>Net Income</th>\n      <th>Net Income Adjustments</th>\n      <th>Net Income Applicable to Common Shareholders</th>\n      <th>Net Income-Cont. Operations</th>\n      <th>Net Receivables</th>\n      <th>Non-Recurring Items</th>\n      <th>Operating Income</th>\n      <th>Operating Margin</th>\n      <th>Other Assets</th>\n      <th>Other Current Assets</th>\n      <th>Other Current Liabilities</th>\n      <th>Other Equity</th>\n      <th>Other Financing Activities</th>\n      <th>Other Investing Activities</th>\n      <th>Other Liabilities</th>\n      <th>Other Operating Activities</th>\n      <th>Other Operating Items</th>\n      <th>Pre-Tax Margin</th>\n      <th>Pre-Tax ROE</th>\n      <th>Profit Margin</th>\n      <th>Quick Ratio</th>\n      <th>Research and Development</th>\n      <th>Retained Earnings</th>\n      <th>Sale and Purchase of Stock</th>\n      <th>Sales, General and Admin.</th>\n      <th>Short-Term Debt / Current Portion of Long-Term Debt</th>\n      <th>Short-Term Investments</th>\n      <th>Total Assets</th>\n      <th>Total Current Assets</th>\n      <th>Total Current Liabilities</th>\n      <th>Total Equity</th>\n      <th>Total Liabilities</th>\n      <th>Total Liabilities &amp; Equity</th>\n      <th>Total Revenue</th>\n      <th>Treasury Stock</th>\n      <th>For Year</th>\n      <th>Earnings Per Share</th>\n      <th>Estimated Shares Outstanding</th>\n    </tr>\n  </thead>\n  <tbody>\n    <tr>\n      <th>0</th>\n      <td>0</td>\n      <td>AAL</td>\n      <td>2012-12-31</td>\n      <td>3.068000e+09</td>\n      <td>-222000000.0</td>\n      <td>-1.961000e+09</td>\n      <td>23.0</td>\n      <td>-1.888000e+09</td>\n      <td>4.695000e+09</td>\n      <td>53.0</td>\n      <td>1.330000e+09</td>\n      <td>0.0</td>\n      <td>127000000.0</td>\n      <td>1.049900e+10</td>\n      <td>78.0</td>\n      <td>0.000000e+00</td>\n      <td>223000000.0</td>\n      <td>1.001000e+09</td>\n      <td>-1.813000e+09</td>\n      <td>-2.445000e+09</td>\n      <td>0.0</td>\n      <td>0.0</td>\n      <td>1.340200e+10</td>\n      <td>0.000000e+00</td>\n      <td>58.0</td>\n      <td>1.435600e+10</td>\n      <td>-5.690000e+08</td>\n      <td>8.690000e+08</td>\n      <td>632000000.0</td>\n      <td>5.800000e+08</td>\n      <td>3.060000e+08</td>\n      <td>4.730000e+08</td>\n      <td>7.116000e+09</td>\n      <td>0.0</td>\n      <td>0.0</td>\n      <td>0.0</td>\n      <td>-1.020000e+09</td>\n      <td>197000000.0</td>\n      <td>1.285000e+09</td>\n      <td>4.830000e+08</td>\n      <td>-1.571000e+09</td>\n      <td>-1.876000e+09</td>\n      <td>2.050000e+09</td>\n      <td>-1.876000e+09</td>\n      <td>-4.084000e+09</td>\n      <td>1.124000e+09</td>\n      <td>3.860000e+08</td>\n      <td>1.480000e+08</td>\n      <td>1.0</td>\n      <td>2.167000e+09</td>\n      <td>6.260000e+08</td>\n      <td>4.524000e+09</td>\n      <td>-2.980000e+09</td>\n      <td>1.509000e+09</td>\n      <td>11000000.0</td>\n      <td>1.514700e+10</td>\n      <td>-141000000.0</td>\n      <td>8.450000e+08</td>\n      <td>10.0</td>\n      <td>31.0</td>\n      <td>8.0</td>\n      <td>72.0</td>\n      <td>0.0</td>\n      <td>-9.462000e+09</td>\n      <td>0.000000e+00</td>\n      <td>1.297700e+10</td>\n      <td>1.419000e+09</td>\n      <td>3.412000e+09</td>\n      <td>2.351000e+10</td>\n      <td>7.072000e+09</td>\n      <td>9.011000e+09</td>\n      <td>-7.987000e+09</td>\n      <td>2.489100e+10</td>\n      <td>1.690400e+10</td>\n      <td>2.485500e+10</td>\n      <td>-367000000.0</td>\n      <td>2012.0</td>\n      <td>-5.60</td>\n      <td>3.350000e+08</td>\n    </tr>\n    <tr>\n      <th>1</th>\n      <td>1</td>\n      <td>AAL</td>\n      <td>2013-12-31</td>\n      <td>4.975000e+09</td>\n      <td>-93000000.0</td>\n      <td>-2.723000e+09</td>\n      <td>67.0</td>\n      <td>-3.114000e+09</td>\n      <td>1.059200e+10</td>\n      <td>75.0</td>\n      <td>2.175000e+09</td>\n      <td>0.0</td>\n      <td>5000000.0</td>\n      <td>1.101900e+10</td>\n      <td>104.0</td>\n      <td>0.000000e+00</td>\n      <td>935000000.0</td>\n      <td>1.020000e+09</td>\n      <td>-1.324000e+09</td>\n      <td>-2.180000e+09</td>\n      <td>0.0</td>\n      <td>0.0</td>\n      <td>1.925900e+10</td>\n      <td>4.086000e+09</td>\n      <td>59.0</td>\n      <td>1.572400e+10</td>\n      <td>-3.460000e+08</td>\n      <td>2.311000e+09</td>\n      <td>856000000.0</td>\n      <td>1.012000e+09</td>\n      <td>-1.181000e+09</td>\n      <td>-2.350000e+08</td>\n      <td>1.535300e+10</td>\n      <td>0.0</td>\n      <td>0.0</td>\n      <td>0.0</td>\n      <td>2.208000e+09</td>\n      <td>660000000.0</td>\n      <td>6.750000e+08</td>\n      <td>3.799000e+09</td>\n      <td>-3.814000e+09</td>\n      <td>-1.834000e+09</td>\n      <td>1.873000e+09</td>\n      <td>-1.834000e+09</td>\n      <td>-4.489000e+09</td>\n      <td>1.560000e+09</td>\n      <td>5.590000e+08</td>\n      <td>1.399000e+09</td>\n      <td>5.0</td>\n      <td>2.299000e+09</td>\n      <td>1.465000e+09</td>\n      <td>7.385000e+09</td>\n      <td>-2.032000e+09</td>\n      <td>1.711000e+09</td>\n      <td>481000000.0</td>\n      <td>1.491500e+10</td>\n      <td>-56000000.0</td>\n      <td>8.530000e+08</td>\n      <td>8.0</td>\n      <td>80.0</td>\n      <td>7.0</td>\n      <td>96.0</td>\n      <td>0.0</td>\n      <td>-1.129600e+10</td>\n      <td>0.000000e+00</td>\n      <td>1.291300e+10</td>\n      <td>1.446000e+09</td>\n      <td>8.111000e+09</td>\n      <td>4.227800e+10</td>\n      <td>1.432300e+10</td>\n      <td>1.380600e+10</td>\n      <td>-2.731000e+09</td>\n      <td>4.500900e+10</td>\n      <td>4.227800e+10</td>\n      <td>2.674300e+10</td>\n      <td>0.0</td>\n      <td>2013.0</td>\n      <td>-11.25</td>\n      <td>1.630222e+08</td>\n    </tr>\n    <tr>\n      <th>2</th>\n      <td>2</td>\n      <td>AAL</td>\n      <td>2014-12-31</td>\n      <td>4.668000e+09</td>\n      <td>-160000000.0</td>\n      <td>-1.500000e+08</td>\n      <td>143.0</td>\n      <td>-5.311000e+09</td>\n      <td>1.513500e+10</td>\n      <td>60.0</td>\n      <td>1.768000e+09</td>\n      <td>0.0</td>\n      <td>7000000.0</td>\n      <td>1.562000e+10</td>\n      <td>88.0</td>\n      <td>0.000000e+00</td>\n      <td>829000000.0</td>\n      <td>1.342000e+09</td>\n      <td>4.099000e+09</td>\n      <td>3.212000e+09</td>\n      <td>0.0</td>\n      <td>0.0</td>\n      <td>2.308400e+10</td>\n      <td>4.091000e+09</td>\n      <td>63.0</td>\n      <td>2.703000e+10</td>\n      <td>3.300000e+08</td>\n      <td>2.240000e+09</td>\n      <td>887000000.0</td>\n      <td>1.004000e+09</td>\n      <td>1.799000e+09</td>\n      <td>-1.026000e+09</td>\n      <td>1.604300e+10</td>\n      <td>0.0</td>\n      <td>0.0</td>\n      <td>0.0</td>\n      <td>1.700000e+08</td>\n      <td>-146000000.0</td>\n      <td>3.080000e+09</td>\n      <td>-3.150000e+08</td>\n      <td>-2.911000e+09</td>\n      <td>2.882000e+09</td>\n      <td>5.420000e+08</td>\n      <td>2.882000e+09</td>\n      <td>2.882000e+09</td>\n      <td>1.771000e+09</td>\n      <td>8.000000e+08</td>\n      <td>4.249000e+09</td>\n      <td>10.0</td>\n      <td>2.060000e+09</td>\n      <td>8.980000e+08</td>\n      <td>7.059000e+09</td>\n      <td>-4.559000e+09</td>\n      <td>8.170000e+08</td>\n      <td>601000000.0</td>\n      <td>1.092800e+10</td>\n      <td>-500000000.0</td>\n      <td>1.295000e+09</td>\n      <td>8.0</td>\n      <td>159.0</td>\n      <td>7.0</td>\n      <td>80.0</td>\n      <td>0.0</td>\n      <td>-8.562000e+09</td>\n      <td>-1.052000e+09</td>\n      <td>2.068600e+10</td>\n      <td>1.677000e+09</td>\n      <td>6.309000e+09</td>\n      <td>4.322500e+10</td>\n      <td>1.175000e+10</td>\n      <td>1.340400e+10</td>\n      <td>2.021000e+09</td>\n      <td>4.120400e+10</td>\n      <td>4.322500e+10</td>\n      <td>4.265000e+10</td>\n      <td>0.0</td>\n      <td>2014.0</td>\n      <td>4.02</td>\n      <td>7.169154e+08</td>\n    </tr>\n    <tr>\n      <th>3</th>\n      <td>3</td>\n      <td>AAL</td>\n      <td>2015-12-31</td>\n      <td>5.102000e+09</td>\n      <td>352000000.0</td>\n      <td>-7.080000e+08</td>\n      <td>135.0</td>\n      <td>-6.151000e+09</td>\n      <td>1.159100e+10</td>\n      <td>51.0</td>\n      <td>1.085000e+09</td>\n      <td>0.0</td>\n      <td>6000000.0</td>\n      <td>1.109600e+10</td>\n      <td>73.0</td>\n      <td>2.477000e+09</td>\n      <td>667000000.0</td>\n      <td>1.487000e+09</td>\n      <td>5.496000e+09</td>\n      <td>4.616000e+09</td>\n      <td>0.0</td>\n      <td>0.0</td>\n      <td>2.751000e+10</td>\n      <td>4.091000e+09</td>\n      <td>73.0</td>\n      <td>2.989400e+10</td>\n      <td>-2.994000e+09</td>\n      <td>2.249000e+09</td>\n      <td>880000000.0</td>\n      <td>8.630000e+08</td>\n      <td>4.430000e+08</td>\n      <td>-6.330000e+08</td>\n      <td>1.833000e+10</td>\n      <td>0.0</td>\n      <td>0.0</td>\n      <td>0.0</td>\n      <td>2.856000e+09</td>\n      <td>-604000000.0</td>\n      <td>6.249000e+09</td>\n      <td>-1.259000e+09</td>\n      <td>-5.594000e+09</td>\n      <td>7.610000e+09</td>\n      <td>-2.662000e+09</td>\n      <td>7.610000e+09</td>\n      <td>7.610000e+09</td>\n      <td>1.425000e+09</td>\n      <td>1.051000e+09</td>\n      <td>6.204000e+09</td>\n      <td>15.0</td>\n      <td>2.103000e+09</td>\n      <td>7.480000e+08</td>\n      <td>6.272000e+09</td>\n      <td>-4.732000e+09</td>\n      <td>9.600000e+07</td>\n      <td>114000000.0</td>\n      <td>1.017800e+10</td>\n      <td>95000000.0</td>\n      <td>1.364000e+09</td>\n      <td>11.0</td>\n      <td>82.0</td>\n      <td>19.0</td>\n      <td>67.0</td>\n      <td>0.0</td>\n      <td>-1.230000e+09</td>\n      <td>-3.846000e+09</td>\n      <td>2.127500e+10</td>\n      <td>2.231000e+09</td>\n      <td>5.864000e+09</td>\n      <td>4.841500e+10</td>\n      <td>9.985000e+09</td>\n      <td>1.360500e+10</td>\n      <td>5.635000e+09</td>\n      <td>4.278000e+10</td>\n      <td>4.841500e+10</td>\n      <td>4.099000e+10</td>\n      <td>0.0</td>\n      <td>2015.0</td>\n      <td>11.39</td>\n      <td>6.681299e+08</td>\n    </tr>\n    <tr>\n      <th>4</th>\n      <td>4</td>\n      <td>AAP</td>\n      <td>2012-12-29</td>\n      <td>2.409453e+09</td>\n      <td>-89482000.0</td>\n      <td>6.000000e+05</td>\n      <td>32.0</td>\n      <td>-2.711820e+08</td>\n      <td>5.202150e+08</td>\n      <td>23.0</td>\n      <td>5.981110e+08</td>\n      <td>-260298000.0</td>\n      <td>7000.0</td>\n      <td>3.106967e+09</td>\n      <td>124.0</td>\n      <td>0.000000e+00</td>\n      <td>0.0</td>\n      <td>1.895440e+08</td>\n      <td>6.579150e+08</td>\n      <td>6.240740e+08</td>\n      <td>0.0</td>\n      <td>0.0</td>\n      <td>1.292547e+09</td>\n      <td>7.638900e+07</td>\n      <td>50.0</td>\n      <td>3.098036e+09</td>\n      <td>2.364040e+08</td>\n      <td>2.884500e+07</td>\n      <td>33841000.0</td>\n      <td>2.308609e+09</td>\n      <td>0.000000e+00</td>\n      <td>4.263230e+08</td>\n      <td>6.044610e+08</td>\n      <td>0.0</td>\n      <td>0.0</td>\n      <td>0.0</td>\n      <td>1.774450e+08</td>\n      <td>540210000.0</td>\n      <td>6.852810e+08</td>\n      <td>1.279070e+08</td>\n      <td>-2.729780e+08</td>\n      <td>3.876700e+08</td>\n      <td>2.331100e+07</td>\n      <td>3.876700e+08</td>\n      <td>3.876700e+08</td>\n      <td>2.298660e+08</td>\n      <td>0.000000e+00</td>\n      <td>6.573150e+08</td>\n      <td>11.0</td>\n      <td>3.183300e+07</td>\n      <td>4.761400e+07</td>\n      <td>1.495580e+08</td>\n      <td>2.667000e+06</td>\n      <td>-3.349900e+07</td>\n      <td>-1796000.0</td>\n      <td>2.390210e+08</td>\n      <td>8213000.0</td>\n      <td>0.000000e+00</td>\n      <td>10.0</td>\n      <td>52.0</td>\n      <td>6.0</td>\n      <td>34.0</td>\n      <td>0.0</td>\n      <td>7.149000e+08</td>\n      <td>-1.860000e+07</td>\n      <td>2.440721e+09</td>\n      <td>6.270000e+05</td>\n      <td>0.000000e+00</td>\n      <td>4.613814e+09</td>\n      <td>3.184200e+09</td>\n      <td>2.559638e+09</td>\n      <td>1.210694e+09</td>\n      <td>3.403120e+09</td>\n      <td>4.613814e+09</td>\n      <td>6.205003e+09</td>\n      <td>-27095000.0</td>\n      <td>2012.0</td>\n      <td>5.29</td>\n      <td>7.328355e+07</td>\n    </tr>\n  </tbody>\n</table>\n</div>"
          },
          "metadata": {}
        }
      ]
    },
    {
      "metadata": {
        "trusted": true,
        "_uuid": "0d5af704a417d1e73e07531fe33cf236b704a729"
      },
      "cell_type": "code",
      "source": "symbols = list(set(df.symbol)) #reading symbols\nlen(symbols)",
      "execution_count": 4,
      "outputs": [
        {
          "output_type": "execute_result",
          "execution_count": 4,
          "data": {
            "text/plain": "501"
          },
          "metadata": {}
        }
      ]
    },
    {
      "metadata": {
        "trusted": true,
        "_uuid": "49bd75baffdc1126d554849d64a1a5c477e2de65"
      },
      "cell_type": "code",
      "source": "symbols[500]",
      "execution_count": 13,
      "outputs": [
        {
          "output_type": "execute_result",
          "execution_count": 13,
          "data": {
            "text/plain": "'GPS'"
          },
          "metadata": {}
        }
      ]
    },
    {
      "metadata": {
        "trusted": true,
        "_uuid": "4a4248b02c14a9a91dc8a7ee7576c7a3c394ab6c"
      },
      "cell_type": "code",
      "source": "df = df[df.symbol == 'GOOG']\ndf.drop(['symbol'],1,inplace=True)\ndf.head()",
      "execution_count": 6,
      "outputs": [
        {
          "output_type": "execute_result",
          "execution_count": 6,
          "data": {
            "text/plain": "                  open         low     ...          volume   adj close\ndate                                   ...                            \n2010-01-04  312.304948  310.955001     ...       3927000.0  312.205308\n2010-01-05  312.419511  309.610028     ...       6031900.0  310.830459\n2010-01-06  311.761979  302.048370     ...       7987100.0  302.994813\n2010-01-07  303.562685  295.218951     ...      12876600.0  295.941242\n2010-01-08  294.895159  293.455551     ...       9483900.0  299.886470\n\n[5 rows x 5 columns]",
            "text/html": "<div>\n<style scoped>\n    .dataframe tbody tr th:only-of-type {\n        vertical-align: middle;\n    }\n\n    .dataframe tbody tr th {\n        vertical-align: top;\n    }\n\n    .dataframe thead th {\n        text-align: right;\n    }\n</style>\n<table border=\"1\" class=\"dataframe\">\n  <thead>\n    <tr style=\"text-align: right;\">\n      <th></th>\n      <th>open</th>\n      <th>low</th>\n      <th>high</th>\n      <th>volume</th>\n      <th>adj close</th>\n    </tr>\n    <tr>\n      <th>date</th>\n      <th></th>\n      <th></th>\n      <th></th>\n      <th></th>\n      <th></th>\n    </tr>\n  </thead>\n  <tbody>\n    <tr>\n      <th>2010-01-04</th>\n      <td>312.304948</td>\n      <td>310.955001</td>\n      <td>313.580158</td>\n      <td>3927000.0</td>\n      <td>312.205308</td>\n    </tr>\n    <tr>\n      <th>2010-01-05</th>\n      <td>312.419511</td>\n      <td>309.610028</td>\n      <td>312.748278</td>\n      <td>6031900.0</td>\n      <td>310.830459</td>\n    </tr>\n    <tr>\n      <th>2010-01-06</th>\n      <td>311.761979</td>\n      <td>302.048370</td>\n      <td>311.761979</td>\n      <td>7987100.0</td>\n      <td>302.994813</td>\n    </tr>\n    <tr>\n      <th>2010-01-07</th>\n      <td>303.562685</td>\n      <td>295.218951</td>\n      <td>303.861575</td>\n      <td>12876600.0</td>\n      <td>295.941242</td>\n    </tr>\n    <tr>\n      <th>2010-01-08</th>\n      <td>294.895159</td>\n      <td>293.455551</td>\n      <td>300.499172</td>\n      <td>9483900.0</td>\n      <td>299.886470</td>\n    </tr>\n  </tbody>\n</table>\n</div>"
          },
          "metadata": {}
        }
      ]
    },
    {
      "metadata": {
        "_uuid": "e34a98b22bbcb441246cc1227f4cb1ef84d2ba62"
      },
      "cell_type": "markdown",
      "source": "**    NORMALIZATION \n**"
    },
    {
      "metadata": {
        "trusted": true,
        "_uuid": "0ee9ffa6ddf260cb1167add96c5559dd3ecda2fa"
      },
      "cell_type": "code",
      "source": "def normalize_data(df):\n    min_max_scaler = preprocessing.MinMaxScaler()\n    df['open'] = min_max_scaler.fit_transform(df.open.values.reshape(-1,1))\n    df['high'] = min_max_scaler.fit_transform(df.high.values.reshape(-1,1))\n    df['low'] = min_max_scaler.fit_transform(df.low.values.reshape(-1,1))\n    df['volume'] = min_max_scaler.fit_transform(df.volume.values.reshape(-1,1))\n    df['adj close'] = min_max_scaler.fit_transform(df['adj close'].values.reshape(-1,1))\n    return df\ndf = normalize_data(df)\ndf.head()",
      "execution_count": 14,
      "outputs": [
        {
          "output_type": "execute_result",
          "execution_count": 14,
          "data": {
            "text/plain": "                open       low      high    volume  adj close\ndate                                                         \n2010-01-04  0.157047  0.161167  0.156390  0.131722   0.159399\n2010-01-05  0.157238  0.158884  0.154995  0.202469   0.157092\n2010-01-06  0.156140  0.146049  0.153341  0.268184   0.143942\n2010-01-07  0.142436  0.134457  0.140094  0.432522   0.132105\n2010-01-08  0.127950  0.131464  0.134455  0.318492   0.138726",
            "text/html": "<div>\n<style scoped>\n    .dataframe tbody tr th:only-of-type {\n        vertical-align: middle;\n    }\n\n    .dataframe tbody tr th {\n        vertical-align: top;\n    }\n\n    .dataframe thead th {\n        text-align: right;\n    }\n</style>\n<table border=\"1\" class=\"dataframe\">\n  <thead>\n    <tr style=\"text-align: right;\">\n      <th></th>\n      <th>open</th>\n      <th>low</th>\n      <th>high</th>\n      <th>volume</th>\n      <th>adj close</th>\n    </tr>\n    <tr>\n      <th>date</th>\n      <th></th>\n      <th></th>\n      <th></th>\n      <th></th>\n      <th></th>\n    </tr>\n  </thead>\n  <tbody>\n    <tr>\n      <th>2010-01-04</th>\n      <td>0.157047</td>\n      <td>0.161167</td>\n      <td>0.156390</td>\n      <td>0.131722</td>\n      <td>0.159399</td>\n    </tr>\n    <tr>\n      <th>2010-01-05</th>\n      <td>0.157238</td>\n      <td>0.158884</td>\n      <td>0.154995</td>\n      <td>0.202469</td>\n      <td>0.157092</td>\n    </tr>\n    <tr>\n      <th>2010-01-06</th>\n      <td>0.156140</td>\n      <td>0.146049</td>\n      <td>0.153341</td>\n      <td>0.268184</td>\n      <td>0.143942</td>\n    </tr>\n    <tr>\n      <th>2010-01-07</th>\n      <td>0.142436</td>\n      <td>0.134457</td>\n      <td>0.140094</td>\n      <td>0.432522</td>\n      <td>0.132105</td>\n    </tr>\n    <tr>\n      <th>2010-01-08</th>\n      <td>0.127950</td>\n      <td>0.131464</td>\n      <td>0.134455</td>\n      <td>0.318492</td>\n      <td>0.138726</td>\n    </tr>\n  </tbody>\n</table>\n</div>"
          },
          "metadata": {}
        }
      ]
    },
    {
      "metadata": {
        "_uuid": "2fc8615e5c8b72a5b120386c70c1ba13694c4cb3"
      },
      "cell_type": "markdown",
      "source": "load data fn"
    },
    {
      "metadata": {
        "trusted": true,
        "_uuid": "b687d9aa802285a69efad145c126ee6eb8d3f47b"
      },
      "cell_type": "code",
      "source": "l=df.values\nlen(l)",
      "execution_count": 15,
      "outputs": [
        {
          "output_type": "execute_result",
          "execution_count": 15,
          "data": {
            "text/plain": "1762"
          },
          "metadata": {}
        }
      ]
    },
    {
      "metadata": {
        "trusted": true,
        "_uuid": "db9a7fcab2ee561a6fccead39a667b4d7e5eb96a"
      },
      "cell_type": "code",
      "source": "def load_data(stock, seq_len):\n    amount_of_features = len(stock.columns) # 5\n    data = stock.values\n    sequence_length = seq_len + 1 # index starting from 0\n    result = []\n    \n    for index in range(len(data) - sequence_length): # maxmimum date = lastest date - sequence length\n        result.append(data[index: index + sequence_length]) # index : index + 22days\n    \n    result = np.array(result)\n    row = round(0.9 * result.shape[0]) # 90% split\n    train = result[:int(row), :] # 90% date, all features \n    \n    x_train = train[:, :-1] \n    y_train = train[:, -1][:,-1]\n    \n    x_test = result[int(row):, :-1] \n    y_test = result[int(row):, -1][:,-1]\n\n    x_train = np.reshape(x_train, (x_train.shape[0], x_train.shape[1], amount_of_features))\n    x_test = np.reshape(x_test, (x_test.shape[0], x_test.shape[1], amount_of_features))  \n\n    return [x_train, y_train, x_test, y_test]",
      "execution_count": 16,
      "outputs": []
    },
    {
      "metadata": {
        "_uuid": "81b4c3617d10446c40211dba75c02c8049b6f961"
      },
      "cell_type": "markdown",
      "source": "**model**\n\ndropout = 0.3\nepochs = 90\nLSTM 256 > LSTM 256 > Relu 32 > Linear 1\n"
    },
    {
      "metadata": {
        "trusted": true,
        "_uuid": "d2d10799caf42425c35b15eee294a3a449d23e4a"
      },
      "cell_type": "code",
      "source": "def build_model(layers):\n    d = 0.3\n    model = Sequential()\n    \n    model.add(LSTM(256, input_shape=(layers[1], layers[0]), return_sequences=True))\n    model.add(Dropout(d))\n        \n    model.add(LSTM(256, input_shape=(layers[1], layers[0]), return_sequences=False))\n    model.add(Dropout(d))\n        \n    model.add(Dense(32,kernel_initializer=\"uniform\",activation='relu'))        \n    model.add(Dense(1,kernel_initializer=\"uniform\",activation='linear'))\n    \n    # adam = keras.optimizers.Adam(decay=0.2)\n        \n    start = time.time()\n    model.compile(loss='mse',optimizer='adam', metrics=['accuracy'])\n    print(\"Compilation Time : \", time.time() - start)\n    return model",
      "execution_count": 17,
      "outputs": []
    },
    {
      "metadata": {
        "trusted": true,
        "_uuid": "388e7b94998e96ab0bda54e838a03d2dffa5e559"
      },
      "cell_type": "code",
      "source": "window = 22\nX_train, y_train, X_test, y_test = load_data(df, window)\nprint (X_train[0], y_train[0])",
      "execution_count": 18,
      "outputs": [
        {
          "output_type": "stream",
          "text": "[[0.15704696 0.16116746 0.15638998 0.1317225  0.15939908]\n [0.15723843 0.15888449 0.15499506 0.20246902 0.15709185]\n [0.15613951 0.14604929 0.15334121 0.26818406 0.14394234]\n [0.14243617 0.13445699 0.14009362 0.43252209 0.13210528]\n [0.12795029 0.13146379 0.13445546 0.3184921  0.13872603]\n [0.13832355 0.1356323  0.13546617 0.48640628 0.1379653 ]\n [0.13265404 0.13052526 0.13020388 0.3271972  0.12907917]\n [0.11503787 0.1186032  0.12203482 0.43807453 0.12624527]\n [0.12120685 0.12613696 0.12689613 0.2858228  0.12855249]\n [0.12906589 0.12210374 0.12636158 0.36641044 0.12031836]\n [0.11895908 0.12062405 0.12373877 0.29099208 0.12668832]\n [0.12293853 0.11977851 0.12003013 0.21906583 0.12066114]\n [0.12082392 0.1172081  0.12073176 0.42532947 0.1228095 ]\n [0.10505596 0.0855935  0.10718348 0.45857351 0.09524822]\n [0.09014547 0.08614311 0.08987641 0.29795279 0.08688037]\n [0.08296912 0.08680264 0.08964255 0.29361033 0.08890336]\n [0.08571648 0.08597403 0.08801372 0.26721945 0.08863587]\n [0.08839717 0.08199153 0.08747078 0.21760714 0.08210705]\n [0.08340204 0.0777723  0.08245074 0.27910072 0.07847068]\n [0.08016357 0.08173786 0.07812399 0.15159969 0.0810454 ]\n [0.08046326 0.07946339 0.07741402 0.27611276 0.07945711]\n [0.07522667 0.07998762 0.08337794 0.20208586 0.08756581]] 0.07582908201368749\n",
          "name": "stdout"
        }
      ]
    },
    {
      "metadata": {
        "trusted": true,
        "_uuid": "f72f69a7c4aabb9e0af43c473f0c3fb67e035eba"
      },
      "cell_type": "code",
      "source": "X_train.shape",
      "execution_count": 25,
      "outputs": [
        {
          "output_type": "execute_result",
          "execution_count": 25,
          "data": {
            "text/plain": "(1565, 22, 5)"
          },
          "metadata": {}
        }
      ]
    },
    {
      "metadata": {
        "trusted": true,
        "_uuid": "50d0f62d0bd476a43ebaa6a440f9dd3e9fb84030"
      },
      "cell_type": "code",
      "source": "model = build_model([5,window,1])\n",
      "execution_count": null,
      "outputs": []
    },
    {
      "metadata": {
        "trusted": true,
        "_uuid": "e2e7dc2e78fdfb7f2d6c51764f7f1225ba3f5442"
      },
      "cell_type": "code",
      "source": "model.fit(X_train,y_train,batch_size=512,epochs=90,validation_split=0.1,verbose=1)\n",
      "execution_count": null,
      "outputs": []
    },
    {
      "metadata": {
        "trusted": true,
        "_uuid": "68be76d6bec2eb611fcd21fd6a9ed89ea886a0dd"
      },
      "cell_type": "code",
      "source": "# print(X_test[-1])\ndiff=[]\nratio=[]\np = model.predict(X_test)\nprint (p.shape)\n# for each data index in test data\nfor u in range(len(y_test)):\n    # pr = prediction day u\n    pr = p[u][0]\n    # (y_test day u / pr) - 1\n    ratio.append((y_test[u]/pr)-1)\n    diff.append(abs(y_test[u]- pr))\n    # print(u, y_test[u], pr, (y_test[u]/pr)-1, abs(y_test[u]- pr))\n    # Last day prediction\n    # print(p[-1]) ",
      "execution_count": null,
      "outputs": []
    },
    {
      "metadata": {
        "_uuid": "c71680afe6c7a606f145d6da9146db162ed26aaa"
      },
      "cell_type": "markdown",
      "source": "**DENORMALIZATION**"
    },
    {
      "metadata": {
        "trusted": true,
        "_uuid": "6fa1a9d68490e6510f70950ebdc69bc53eeadcce"
      },
      "cell_type": "code",
      "source": "df = pd.read_csv(\"../input/prices-split-adjusted.csv\", index_col = 0)\ndf[\"adj close\"] = df.close # Moving close to the last column\ndf.drop(['close'], 1, inplace=True) # Moving close to the last column\ndf = df[df.symbol == 'GOOG']\ndf.drop(['symbol'],1,inplace=True)\n\n# Bug fixed at here, please update the denormalize function to this one\ndef denormalize(df, normalized_value): \n    df = df['adj close'].values.reshape(-1,1)\n    normalized_value = normalized_value.reshape(-1,1)\n    \n    #return df.shape, p.shape\n    min_max_scaler = preprocessing.MinMaxScaler()\n    a = min_max_scaler.fit_transform(df)\n    new = min_max_scaler.inverse_transform(normalized_value)\n    return new\n\nnewp = denormalize(df, p)\nnewy_test = denormalize(df, y_test)",
      "execution_count": null,
      "outputs": []
    },
    {
      "metadata": {
        "trusted": true,
        "_uuid": "173b68d27f14ab5cfd65f31b506645bc3e731ca3"
      },
      "cell_type": "code",
      "source": "def model_score(model, X_train, y_train, X_test, y_test):\n    trainScore = model.evaluate(X_train, y_train, verbose=0)\n    print('Train Score: %.5f MSE (%.2f RMSE)' % (trainScore[0], math.sqrt(trainScore[0])))\n\n    testScore = model.evaluate(X_test, y_test, verbose=0)\n    print('Test Score: %.5f MSE (%.2f RMSE)' % (testScore[0], math.sqrt(testScore[0])))\n    return trainScore[0], testScore[0]\n\n\nmodel_score(model, X_train, y_train, X_test, y_test)",
      "execution_count": null,
      "outputs": []
    },
    {
      "metadata": {
        "trusted": true,
        "_uuid": "e1d6784ff35d4dfd0d5ecd2419a5b24995f80a5d"
      },
      "cell_type": "code",
      "source": "import matplotlib.pyplot as plt2\n\nplt2.plot(newp,color='red', label='Prediction')\nplt2.plot(newy_test,color='blue', label='Actual')\nplt2.legend(loc='best')\nplt2.show()\n",
      "execution_count": null,
      "outputs": []
    },
    {
      "metadata": {
        "trusted": true,
        "_uuid": "3681ac73db3b4572a73dbb165d7391d7ee006819"
      },
      "cell_type": "code",
      "source": "",
      "execution_count": null,
      "outputs": []
    }
  ],
  "metadata": {
    "kernelspec": {
      "display_name": "Python 3",
      "language": "python",
      "name": "python3"
    },
    "language_info": {
      "name": "python",
      "version": "3.6.6",
      "mimetype": "text/x-python",
      "codemirror_mode": {
        "name": "ipython",
        "version": 3
      },
      "pygments_lexer": "ipython3",
      "nbconvert_exporter": "python",
      "file_extension": ".py"
    }
  },
  "nbformat": 4,
  "nbformat_minor": 1
}